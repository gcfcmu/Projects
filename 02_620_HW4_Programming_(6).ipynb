{
  "cells": [
    {
      "cell_type": "markdown",
      "metadata": {
        "id": "view-in-github",
        "colab_type": "text"
      },
      "source": [
        "<a href=\"https://colab.research.google.com/github/gcfcmu/Projects/blob/main/02_620_HW4_Programming_(6).ipynb\" target=\"_parent\"><img src=\"https://colab.research.google.com/assets/colab-badge.svg\" alt=\"Open In Colab\"/></a>"
      ]
    },
    {
      "cell_type": "markdown",
      "metadata": {
        "id": "rorptd0liZH7"
      },
      "source": [
        "#__02-620 HW4 Programming - Image classification using Pytorch__\n",
        "\n",
        "In this last homework, we will learn basic deep learning. Deep learning is a fast moving research area. There is ongoing research on why it works so well, but so far the theory of deep learning is still building in progress. Due to this nature of the field, hands-on experience is the most important in deep learning.\n",
        "\n",
        "We will use Pytorch, one of the popular deep learning frameworks. If you are unfamiliar with the Pytorch, please watch the recitation video and look at the recitation material, where we covered basic understanding of Pytorch.\n",
        "\n",
        "Because our course is an introductory machine learning course, we covered broad topics in machine learning and thus we can't go very deep into deep learning. So we will go through only the basics of deep learning. Throughout the homework, we hope you'll get familiar with deep learning and Pytorch framework.\n",
        "\n",
        "Referenced 16-720 and 16-824, great courses in CMU"
      ]
    },
    {
      "cell_type": "code",
      "execution_count": null,
      "metadata": {
        "id": "nEBj71JqNyfb",
        "outputId": "0b60278b-bd27-474e-be28-8524d6454a78"
      },
      "outputs": [
        {
          "name": "stdout",
          "output_type": "stream",
          "text": [
            "Collecting torch\n",
            "  Downloading torch-2.0.0-cp39-none-macosx_10_9_x86_64.whl (139.8 MB)\n",
            "\u001b[2K     \u001b[90m━━━━━━━━━━━━━━━━━━━━━━━━━━━━━━━━━━━━━━━\u001b[0m \u001b[32m139.8/139.8 MB\u001b[0m \u001b[31m4.0 MB/s\u001b[0m eta \u001b[36m0:00:00\u001b[0m00:01\u001b[0m00:01\u001b[0m\n",
            "\u001b[?25hRequirement already satisfied: sympy in /Users/gabrielf/opt/anaconda3/lib/python3.9/site-packages (from torch) (1.10.1)\n",
            "Requirement already satisfied: networkx in /Users/gabrielf/opt/anaconda3/lib/python3.9/site-packages (from torch) (2.8.4)\n",
            "Requirement already satisfied: jinja2 in /Users/gabrielf/opt/anaconda3/lib/python3.9/site-packages (from torch) (2.11.3)\n",
            "Requirement already satisfied: filelock in /Users/gabrielf/opt/anaconda3/lib/python3.9/site-packages (from torch) (3.6.0)\n",
            "Requirement already satisfied: typing-extensions in /Users/gabrielf/opt/anaconda3/lib/python3.9/site-packages (from torch) (4.3.0)\n",
            "Requirement already satisfied: MarkupSafe>=0.23 in /Users/gabrielf/opt/anaconda3/lib/python3.9/site-packages (from jinja2->torch) (2.0.1)\n",
            "Requirement already satisfied: mpmath>=0.19 in /Users/gabrielf/opt/anaconda3/lib/python3.9/site-packages (from sympy->torch) (1.2.1)\n",
            "Installing collected packages: torch\n",
            "Successfully installed torch-2.0.0\n"
          ]
        }
      ],
      "source": [
        "!pip install torch"
      ]
    },
    {
      "cell_type": "code",
      "execution_count": null,
      "metadata": {
        "id": "4ZMkfQsbNyfi",
        "outputId": "80228859-67b5-4bff-85c2-6d027b092869"
      },
      "outputs": [
        {
          "name": "stdout",
          "output_type": "stream",
          "text": [
            "Collecting torchvision\n",
            "  Downloading torchvision-0.15.1-cp39-cp39-macosx_10_9_x86_64.whl (1.5 MB)\n",
            "\u001b[2K     \u001b[90m━━━━━━━━━━━━━━━━━━━━━━━━━━━━━━━━━━━━━━━━\u001b[0m \u001b[32m1.5/1.5 MB\u001b[0m \u001b[31m4.9 MB/s\u001b[0m eta \u001b[36m0:00:00\u001b[0m00:01\u001b[0m00:01\u001b[0m\n",
            "\u001b[?25hRequirement already satisfied: torch==2.0.0 in /Users/gabrielf/opt/anaconda3/lib/python3.9/site-packages (from torchvision) (2.0.0)\n",
            "Requirement already satisfied: pillow!=8.3.*,>=5.3.0 in /Users/gabrielf/opt/anaconda3/lib/python3.9/site-packages (from torchvision) (9.2.0)\n",
            "Requirement already satisfied: numpy in /Users/gabrielf/opt/anaconda3/lib/python3.9/site-packages (from torchvision) (1.21.5)\n",
            "Requirement already satisfied: requests in /Users/gabrielf/opt/anaconda3/lib/python3.9/site-packages (from torchvision) (2.28.1)\n",
            "Requirement already satisfied: jinja2 in /Users/gabrielf/opt/anaconda3/lib/python3.9/site-packages (from torch==2.0.0->torchvision) (2.11.3)\n",
            "Requirement already satisfied: filelock in /Users/gabrielf/opt/anaconda3/lib/python3.9/site-packages (from torch==2.0.0->torchvision) (3.6.0)\n",
            "Requirement already satisfied: networkx in /Users/gabrielf/opt/anaconda3/lib/python3.9/site-packages (from torch==2.0.0->torchvision) (2.8.4)\n",
            "Requirement already satisfied: typing-extensions in /Users/gabrielf/opt/anaconda3/lib/python3.9/site-packages (from torch==2.0.0->torchvision) (4.3.0)\n",
            "Requirement already satisfied: sympy in /Users/gabrielf/opt/anaconda3/lib/python3.9/site-packages (from torch==2.0.0->torchvision) (1.10.1)\n",
            "Requirement already satisfied: certifi>=2017.4.17 in /Users/gabrielf/opt/anaconda3/lib/python3.9/site-packages (from requests->torchvision) (2022.9.24)\n",
            "Requirement already satisfied: idna<4,>=2.5 in /Users/gabrielf/opt/anaconda3/lib/python3.9/site-packages (from requests->torchvision) (3.3)\n",
            "Requirement already satisfied: urllib3<1.27,>=1.21.1 in /Users/gabrielf/opt/anaconda3/lib/python3.9/site-packages (from requests->torchvision) (1.26.11)\n",
            "Requirement already satisfied: charset-normalizer<3,>=2 in /Users/gabrielf/opt/anaconda3/lib/python3.9/site-packages (from requests->torchvision) (2.0.4)\n",
            "Requirement already satisfied: MarkupSafe>=0.23 in /Users/gabrielf/opt/anaconda3/lib/python3.9/site-packages (from jinja2->torch==2.0.0->torchvision) (2.0.1)\n",
            "Requirement already satisfied: mpmath>=0.19 in /Users/gabrielf/opt/anaconda3/lib/python3.9/site-packages (from sympy->torch==2.0.0->torchvision) (1.2.1)\n",
            "Installing collected packages: torchvision\n",
            "Successfully installed torchvision-0.15.1\n"
          ]
        }
      ],
      "source": [
        "!pip install torchvision"
      ]
    },
    {
      "cell_type": "code",
      "execution_count": 2,
      "metadata": {
        "id": "DuH7q_3miVYT",
        "colab": {
          "base_uri": "https://localhost:8080/",
          "height": 0
        },
        "outputId": "4e1ac0bd-8efe-4d9f-9b3e-9d9474ad412e"
      },
      "outputs": [
        {
          "output_type": "execute_result",
          "data": {
            "text/plain": [
              "<torch._C.Generator at 0x7f1504103d50>"
            ]
          },
          "metadata": {},
          "execution_count": 2
        }
      ],
      "source": [
        "#Feel free to import any required library you need.\n",
        "import torch\n",
        "import torchvision\n",
        "import torch.nn as nn\n",
        "import torch.nn.functional as F\n",
        "from torchvision import datasets\n",
        "from torchvision.transforms import ToTensor\n",
        "from torchvision.transforms import Compose\n",
        "from torchvision.transforms import Resize\n",
        "from torchvision.transforms import RandomRotation\n",
        "from torchvision.transforms import Normalize\n",
        "\n",
        "import matplotlib.pyplot as plt\n",
        "import os\n",
        "import pandas as pd\n",
        "\n",
        "import numpy as np \n",
        "\n",
        "torch.manual_seed(0) #For reproducibility"
      ]
    },
    {
      "cell_type": "code",
      "source": [
        "from google.colab import drive\n",
        "drive.mount('/content/drive')\n",
        "\n",
        "# mount drive to be able to save training states"
      ],
      "metadata": {
        "colab": {
          "base_uri": "https://localhost:8080/",
          "height": 0
        },
        "id": "4v4pIehNOWnV",
        "outputId": "10ce4656-a530-4d71-fefe-d6b64686e2cf"
      },
      "execution_count": 3,
      "outputs": [
        {
          "output_type": "stream",
          "name": "stdout",
          "text": [
            "Drive already mounted at /content/drive; to attempt to forcibly remount, call drive.mount(\"/content/drive\", force_remount=True).\n"
          ]
        }
      ]
    },
    {
      "cell_type": "markdown",
      "metadata": {
        "id": "YTXZHyHSiXPC"
      },
      "source": [
        "#__General Task description__\n",
        "\n",
        "In this assignment, our task is to build a workflow of classifying the objects using deep learning models. The dataset we are interested in is CIFAR10(https://www.cs.toronto.edu/~kriz/cifar.html). This dataset includes 60,000 32x32 color images in 10 clases. It has 50,000 training samples and 10,000 test samples. You can download the dataset using torchvision.datasets.CIFAR10()\n",
        "\n",
        "__TODOs__\n",
        "1. Change path to your desired path!!!\n",
        "2. Once you download your data, you can change it to False"
      ]
    },
    {
      "cell_type": "code",
      "execution_count": 5,
      "metadata": {
        "colab": {
          "base_uri": "https://localhost:8080/",
          "height": 0
        },
        "id": "XvVmFzQ6_jZA",
        "outputId": "d41cb7a8-1318-4198-af4b-c7551604d9f8"
      },
      "outputs": [
        {
          "output_type": "stream",
          "name": "stdout",
          "text": [
            "Files already downloaded and verified\n",
            "Files already downloaded and verified\n"
          ]
        }
      ],
      "source": [
        "your_path='/content' # path ./ outside of Google Collab\n",
        "download=True\n",
        "#download = False\n",
        "\n",
        "\n",
        "#transform data for augmentation \n",
        "\n",
        "train_transform = Compose([\n",
        "    Resize((256)), \n",
        "    ToTensor(),\n",
        "    RandomRotation(degrees=(0, 180)), \n",
        "    Normalize((0.5, 0.5, 0.5), (0.5, 0.5, 0.5)),\n",
        "    ])\n",
        "\n",
        "test_transform = Compose([\n",
        "    Resize((256)), \n",
        "    ToTensor(),\n",
        "    Normalize((0.5, 0.5, 0.5), (0.5, 0.5, 0.5)),])\n",
        "\n",
        "\n",
        "trainset = torchvision.datasets.CIFAR10(root=your_path, train=True,download=download, transform = train_transform)\n",
        "testset = torchvision.datasets.CIFAR10(root=your_path, train=False, download=download, transform = test_transform)"
      ]
    },
    {
      "cell_type": "code",
      "source": [
        "print(trainset)\n",
        "\n",
        "\n",
        "\n",
        "print(testset)"
      ],
      "metadata": {
        "colab": {
          "base_uri": "https://localhost:8080/"
        },
        "id": "ffvCxSTzlhhp",
        "outputId": "aa79c007-5d40-4f50-d3d1-f368f56c1348"
      },
      "execution_count": null,
      "outputs": [
        {
          "output_type": "stream",
          "name": "stdout",
          "text": [
            "Dataset CIFAR10\n",
            "    Number of datapoints: 50000\n",
            "    Root location: /content\n",
            "    Split: Train\n",
            "    StandardTransform\n",
            "Transform: Compose(\n",
            "               Resize(size=256, interpolation=bilinear, max_size=None, antialias=warn)\n",
            "               ToTensor()\n",
            "               RandomRotation(degrees=[0.0, 180.0], interpolation=nearest, expand=False, fill=0)\n",
            "               Normalize(mean=(0.5, 0.5, 0.5), std=(0.5, 0.5, 0.5))\n",
            "           )\n",
            "Dataset CIFAR10\n",
            "    Number of datapoints: 10000\n",
            "    Root location: /content\n",
            "    Split: Test\n",
            "    StandardTransform\n",
            "Transform: Compose(\n",
            "               Resize(size=256, interpolation=bilinear, max_size=None, antialias=warn)\n",
            "               ToTensor()\n",
            "               Normalize(mean=(0.5, 0.5, 0.5), std=(0.5, 0.5, 0.5))\n",
            "           )\n"
          ]
        }
      ]
    },
    {
      "cell_type": "markdown",
      "metadata": {
        "id": "5hidjbg1lp62"
      },
      "source": [
        "#__Task 1 Build your own DataLoader(10 Points)__\n",
        "\n",
        "As we covered in the recitation, Pytorch uses the DataLoader class to bring datapoints to the neural network. You can do any preprocessing in this step.\n",
        "\n",
        "Take a look at https://pytorch.org/tutorials/beginner/basics/data_tutorial.html\n",
        "\n",
        "There can be possibility that you don't have enough dataset. In this case, we can populate the dataset using data augmentation. For example, in Computer Vision, one way to augment your data is adding rotated images.\n",
        "\n",
        "BE CAREFUL: In Pytorch, one of the argument in the DataLoader is indicating train or test. This is very important argument because you do data augmentation with training samples, but not with test samples. You should consider this when you implement DataLoader.\n",
        "\n",
        "Tip:\n",
        "1. It is very important to understand what is your data and how they are organized. Observe how folder and files strutured in the downloaded CIFAR10. See the annotation files, open the images, try to see if there is any pattern in file name, etc.\n",
        "2. For data augmentation, feel free to use methods in torchvision.transforms\n",
        "\n",
        "__TODOs__\n",
        "1. Form your own DataLoader\n",
        "2. In the __getitem__, add your own data augmentation.\n",
        "3. You should have an variable that controls size of the image. For this assignment, use size of 256: that is, image should be (256, 256, 3). Please be mind that when you load this image to the Tensor, it might be changed to (3, 256, 256)"
      ]
    },
    {
      "cell_type": "code",
      "execution_count": null,
      "metadata": {
        "id": "OiO8xFxvl_T_"
      },
      "outputs": [],
      "source": [
        "#This is copied from the Pytorch document. Feel free to utilize it, or build entirely new one\n",
        "class CustomImageDataset(torchvision.datasets.CIFAR10):\n",
        "    def __init__(self, annotations_file, img_dir, transform=None, target_transform=None):\n",
        "        self.img_labels = pd.read_csv(annotations_file)\n",
        "        self.img_dir = img_dir\n",
        "        self.transform = transform\n",
        "        self.target_transform = target_transform\n",
        "\n",
        "    def __len__(self):\n",
        "        return len(self.img_labels)\n",
        "\n",
        "    def __getitem__(self, idx):\n",
        "        img_path = os.path.join(self.img_dir, self.img_labels.iloc[idx, 0])\n",
        "        image = read_image(img_path)\n",
        "        label = self.img_labels.iloc[idx, 1]\n",
        "        if self.transform:\n",
        "            image = self.transform(image)\n",
        "        if self.target_transform:\n",
        "            label = self.target_transform(label)\n",
        "        return image, label"
      ]
    },
    {
      "cell_type": "markdown",
      "metadata": {
        "id": "cp4D2nRimfbs"
      },
      "source": [
        "Now you should be able to bring and use your Dataloader"
      ]
    },
    {
      "cell_type": "code",
      "execution_count": 6,
      "metadata": {
        "id": "5oN273lame6l",
        "colab": {
          "base_uri": "https://localhost:8080/",
          "height": 0
        },
        "outputId": "a5992b9e-6af3-4aea-fbdd-23ed705bdbe8"
      },
      "outputs": [
        {
          "output_type": "stream",
          "name": "stderr",
          "text": [
            "/usr/local/lib/python3.9/dist-packages/torch/utils/data/dataloader.py:561: UserWarning: This DataLoader will create 8 worker processes in total. Our suggested max number of worker in current system is 2, which is smaller than what this DataLoader is going to create. Please be aware that excessive worker creation might get DataLoader running slow or even freeze, lower the worker number to avoid potential slowness/freeze if necessary.\n",
            "  warnings.warn(_create_warning_msg(\n"
          ]
        }
      ],
      "source": [
        "\n",
        "trainloader = torch.utils.data.DataLoader(trainset, batch_size=64,shuffle=True, num_workers=8)\n",
        "testloader = torch.utils.data.DataLoader(testset, batch_size=64, shuffle=False, num_workers=8)\n"
      ]
    },
    {
      "cell_type": "markdown",
      "metadata": {
        "id": "74CqYohGnURP"
      },
      "source": [
        "#__Task 2 Build Neural Network(5 Points)__\n",
        "\n",
        "If you look at some of the deep learning papers, they provide their model architecture, which is how they organized their neural network. Through this task, you should be able to rebuild the neural network given model architecture.\n",
        "The model we are interested in is AlexNet(https://arxiv.org/abs/1404.5997). For simplicity, we are going to implement a slightly simplified version.\n",
        "\n",
        "\n",
        "This is the model you should rebuild:\n",
        "\n",
        "AlexNet(\n",
        "\n",
        "  (features): Sequential(\n",
        "  \n",
        "    (0): Conv2d(3, 64, kernel_size=(11, 11), stride=(4, 4), padding=(2, 2))\n",
        "    (1): ReLU(inplace)\n",
        "    (2): MaxPool2d(kernel_size=(3, 3), stride=(2, 2), dilation=(1, 1), ceil_mode=False)\n",
        "    (3): Conv2d(64, 192, kernel_size=(5, 5), stride=(1, 1), padding=(2, 2))\n",
        "    (4): ReLU(inplace)\n",
        "    (5): MaxPool2d(kernel_size=(3, 3), stride=(2, 2), dilation=(1, 1), ceil_mode=False)\n",
        "    (6): Conv2d(192, 384, kernel_size=(3, 3), stride=(1, 1), padding=(1, 1))\n",
        "    (7): ReLU(inplace)\n",
        "    (8): Conv2d(384, 256, kernel_size=(3, 3), stride=(1, 1), padding=(1, 1))\n",
        "    (9): ReLU(inplace)\n",
        "    (10): Conv2d(256, 256, kernel_size=(3, 3), stride=(1, 1), padding=(1, 1))\n",
        "    (11): ReLU(inplace))\n",
        "  \n",
        "  (classifier): Sequential(\n",
        "  \n",
        "    (0): Conv2d(256, 256, kernel_size=(3, 3), stride=(1, 1))\n",
        "    (1): ReLU(inplace)\n",
        "    (2): Conv2d(256, 256, kernel_size=(1, 1), stride=(1, 1))\n",
        "    (3): ReLU(inplace)\n",
        "    (4): Conv2d(256, 20, kernel_size=(1, 1), stride=(1, 1)))\n",
        ")\n",
        "\n",
        "\n",
        "__TODO: Implement the model architcture__"
      ]
    },
    {
      "cell_type": "code",
      "execution_count": null,
      "metadata": {
        "id": "F8zVkoTmnToH",
        "colab": {
          "base_uri": "https://localhost:8080/"
        },
        "outputId": "5aded458-f29d-49d1-f79f-3e68f3ec1e46"
      },
      "outputs": [
        {
          "output_type": "stream",
          "name": "stdout",
          "text": [
            "Using cuda device\n"
          ]
        }
      ],
      "source": [
        "device = \"cuda\" if torch.cuda.is_available() else \"mps\" if torch.backends.mps.is_available() else \"cpu\"\n",
        "print(f\"Using {device} device\")\n",
        "\n",
        "class AlexNet(nn.Module):\n",
        "    def __init__(self, num_classes=10):\n",
        "        \n",
        "        \n",
        "        super(AlexNet, self).__init__()\n",
        "\n",
        "        self.features=nn.Sequential(\n",
        "            \n",
        "            nn.Conv2d(3, 64, kernel_size=(11, 11), stride=(4, 4), padding=(2, 2)), #j\n",
        "            nn.ReLU(inplace=True),\n",
        "            nn.MaxPool2d(kernel_size=(3, 3), stride=(2, 2), dilation=(1, 1), ceil_mode=False),\n",
        "            nn.Conv2d(64, 192, kernel_size=(5, 5), stride=(1, 1), padding=(2, 2)),\n",
        "            nn.ReLU(inplace=True),\n",
        "            nn.MaxPool2d(kernel_size=(3, 3), stride=(2, 2), dilation=(1, 1), ceil_mode=False),\n",
        "            nn.Conv2d(192, 384, kernel_size=(3, 3), stride=(1, 1), padding=(1, 1)),\n",
        "            nn.ReLU(inplace=True),\n",
        "            nn.Conv2d(384, 256, kernel_size=(3, 3), stride=(1, 1), padding=(1, 1)),\n",
        "            nn.ReLU(inplace=True),\n",
        "            nn.Conv2d(256, 256, kernel_size=(3, 3), stride=(1, 1), padding=(1, 1)),\n",
        "            nn.ReLU(inplace=True))\n",
        "            \n",
        "\n",
        "        self.classifier=nn.Sequential(\n",
        "            \n",
        "            nn.Conv2d(256, 256, kernel_size=(3, 3), stride=(1, 1)),\n",
        "            nn.ReLU(inplace=True),\n",
        "            nn.Conv2d(256, 256, kernel_size=(1, 1), stride=(1, 1)),\n",
        "            nn.ReLU(inplace=True),\n",
        "            nn.Conv2d(256, 10, kernel_size=(1, 1), stride=(1, 1))\n",
        "            \n",
        "        )\n",
        "        \n",
        "        #We will give this initialization for you\n",
        "        for neuron in self.features:\n",
        "            if isinstance(neuron,nn.Conv2d):\n",
        "                nn.init.xavier_uniform_(neuron.weight)\n",
        "        \n",
        "        \n",
        "    def forward(self, x):\n",
        "        \n",
        "        x = (self.features(x))\n",
        "        x = self.classifier(x)\n",
        "        return x"
      ]
    },
    {
      "cell_type": "markdown",
      "metadata": {
        "id": "sh23nNuBpp6F"
      },
      "source": [
        "#__Task 3 Build deep learning pipeline(20 Points)__\n",
        "\n",
        "You have Dataset, DataLoader, and your model. It's time to make a pipeline with ingredients. In the recitation, we covered that before we build a training loop, we need to define loss and optimizer. Due to the limited time, we will provide you with loss and optimizer. Use the given parameters."
      ]
    },
    {
      "cell_type": "code",
      "execution_count": null,
      "metadata": {
        "id": "rl8m7gVArfFf"
      },
      "outputs": [],
      "source": [
        "#initialize model\n",
        "model = AlexNet().to(device)\n",
        "\n",
        "#Do not change this cell\n",
        "num_iter=20\n",
        "loss_fn=nn.BCELoss()\n",
        "optimizer=torch.torch.optim.SGD(model.parameters(),lr=0.1)\n",
        "scheduler = torch.optim.lr_scheduler.ReduceLROnPlateau(optimizer, 'min')"
      ]
    },
    {
      "cell_type": "code",
      "execution_count": null,
      "metadata": {
        "id": "bkDgEKa2Nyfy",
        "outputId": "b380b5a9-064a-41e2-a95a-e815df0d27bc"
      },
      "outputs": [
        {
          "name": "stdout",
          "output_type": "stream",
          "text": [
            "Shape of X [N, C, H, W]: torch.Size([64, 3, 256, 256])\n",
            "Shape of y: torch.Size([64]) torch.int64\n"
          ]
        }
      ],
      "source": [
        "for X, y in trainloader:\n",
        "    print(f\"Shape of X [N, C, H, W]: {X.shape}\")\n",
        "    print(f\"Shape of y: {y.shape} {y.dtype}\")\n",
        "    break"
      ]
    },
    {
      "cell_type": "markdown",
      "metadata": {
        "id": "GWWDh9wirgx-"
      },
      "source": [
        "Now, build a deep learning pipeline. \n",
        "\n",
        "__TODOs: Finish the pipeline. Bring your DataLoader and the model here. Organize the train loop and test loop, and then train and test your model. At the end of the pipeline, your pipeline should be able to provide graphs of training accuracy, test accuracy and training loss, and report final test accuracy. If you implement it well, your test accuracy should be around 65%.__\n",
        "\n",
        "__IMPORTANT: After you get predictions from your model, please add below codes before you put the prediction into loss function. Remember below lines should be added in both training loop and test loop!__\n",
        "\n",
        "        (assume you used pred=model(X))\n",
        "        '''\n",
        "        final_layer=nn.MaxPool2d((pred.size(2),pred.size(3)))\n",
        "        pred=final_layer(pred)\n",
        "        pred=torch.reshape(pred,(-1,10))#(-1,10)\n",
        "        pred=F.sigmoid(pred)\n",
        "        '''\n",
        "        Then loss(pred,y) and goes on"
      ]
    },
    {
      "cell_type": "code",
      "execution_count": null,
      "metadata": {
        "id": "Eq55nAxfs8Mb"
      },
      "outputs": [],
      "source": [
        "def train(trainloader, model, loss_fn, optimizer):\n",
        "    size = len(trainloader.dataset)\n",
        "    model.train()\n",
        "\n",
        "    trainingLoss = 0 \n",
        "    correct = 0\n",
        "    \n",
        "    for batch, (X, y) in enumerate(trainloader):\n",
        "        X, y = X.to(device), y.to(device)\n",
        "        \n",
        "        y = torch.nn.functional.one_hot(y, num_classes= 10)\n",
        "        \n",
        "        y = y.to(device).float()\n",
        "\n",
        "        # Compute prediction error\n",
        "        pred = model(X)\n",
        "        \n",
        "        final_layer=nn.MaxPool2d((pred.size(2),pred.size(3)))\n",
        "        pred=final_layer(pred)\n",
        "        pred=torch.reshape(pred,(-1,10))#(-1,10)\n",
        "        pred=F.sigmoid(pred)\n",
        "        \n",
        "        loss = loss_fn(pred, y)\n",
        "        \n",
        "        trainingLoss = trainingLoss + loss.item()\n",
        "\n",
        "        # Backpropagation\n",
        "        optimizer.zero_grad()\n",
        "        loss.backward()\n",
        "        optimizer.step()\n",
        "\n",
        "        if batch % 100 == 0:\n",
        "            loss, current = loss.item(), (batch + 1) * len(X)\n",
        "            print(f\"loss: {loss:>7f}  [{current:>5d}/{size:>5d}]\")\n",
        "\n",
        "        correct += (pred.argmax(1) == y.argmax(1)).type(torch.float).sum().item()\n",
        "\n",
        "    trainingAccuracy = correct / size \n",
        "    averageTrainingLoss = trainingLoss / 64\n",
        "\n",
        "    print(\"training accuracy:\", trainingAccuracy, \"average training loss:\", averageTrainingLoss)\n",
        "\n",
        "    return (trainingAccuracy, averageTrainingLoss)\n",
        "  "
      ]
    },
    {
      "cell_type": "code",
      "execution_count": null,
      "metadata": {
        "id": "g_bEE4fSNyf0"
      },
      "outputs": [],
      "source": [
        "def test(testloader, model, loss_fn):\n",
        "    size = len(testloader.dataset)\n",
        "    num_batches = len(testloader)\n",
        "    \n",
        "    model.eval()\n",
        "    test_loss, correct = 0, 0\n",
        "    \n",
        "    \n",
        "    with torch.no_grad():\n",
        "        for X, y in testloader:\n",
        "            X, y = X.to(device), y.to(device)\n",
        "            \n",
        "            y = torch.nn.functional.one_hot(y, num_classes= 10)\n",
        "        \n",
        "            y = y.to(device).float()\n",
        "            \n",
        "            \n",
        "            pred = model(X)\n",
        "            \n",
        "            final_layer=nn.MaxPool2d((pred.size(2),pred.size(3)))\n",
        "            pred=final_layer(pred)\n",
        "            pred=torch.reshape(pred,(-1,10))#(-1,10)\n",
        "            pred=F.sigmoid(pred)\n",
        "            \n",
        "            \n",
        "            test_loss += loss_fn(pred, y).item()\n",
        "            \n",
        "            \n",
        "            \n",
        "            \n",
        "            \n",
        "            correct += (pred.argmax(1) == y.argmax(1)).type(torch.float).sum().item()\n",
        "    test_loss /= num_batches\n",
        "    testAccuracy = correct / size \n",
        "    correct /= size\n",
        "\n",
        "    averageTestLoss = test_loss / num_batches \n",
        "    \n",
        "\n",
        "    print(f\"Test Error: \\n Accuracy: {(100*correct):>0.1f}%, Avg loss: {test_loss:>8f} \\n\")\n",
        "    return testAccuracy, averageTestLoss\n",
        "    "
      ]
    },
    {
      "cell_type": "code",
      "source": [
        "#trainingAcc, trainingLoss = train(trainloader, model, loss_fn, optimizer) # for bug fixing"
      ],
      "metadata": {
        "colab": {
          "base_uri": "https://localhost:8080/"
        },
        "id": "XwJOAOG5O1Am",
        "outputId": "9c945f6d-93d5-4c58-b9cf-f3cf074c2645"
      },
      "execution_count": null,
      "outputs": [
        {
          "output_type": "stream",
          "name": "stdout",
          "text": [
            "loss: 0.299561  [   64/50000]\n",
            "loss: 0.293596  [ 6464/50000]\n",
            "loss: 0.290935  [12864/50000]\n",
            "loss: 0.310052  [19264/50000]\n",
            "loss: 0.297880  [25664/50000]\n",
            "loss: 0.282279  [32064/50000]\n",
            "loss: 0.300687  [38464/50000]\n",
            "loss: 0.286146  [44864/50000]\n",
            "0.24396 3.5833086068741977\n"
          ]
        }
      ]
    },
    {
      "cell_type": "code",
      "source": [
        "vals = torch.load(\"/content/drive/MyDrive/values.pt\")\n",
        "\n",
        "\n",
        "trAc = vals['training accuracy']\n",
        "trLoss = vals['training loss']\n",
        "tsAc = vals['test accuracy']\n",
        "tsLoss = vals['averageTestLoss']\n",
        "\n",
        "\n",
        "#model = AlexNet().to(device)\n",
        "#model.load_state_dict(torch.load(\"/content/drive/MyDrive/mo.pt\")[20])\n",
        "\n",
        "#Load the above if a previous state already exists. Else:\n",
        "\"\"\"\n",
        "trAc = []\n",
        "trLoss = []\n",
        "tsAc = []\n",
        "tsLoss = []\n",
        "\"\"\"\n",
        "\n",
        "for i in tsAc:\n",
        "  tsAc = tsAc * len(testloader.dataset)\n",
        "\n"
      ],
      "metadata": {
        "id": "8A8ede4HK43Y"
      },
      "execution_count": null,
      "outputs": []
    },
    {
      "cell_type": "code",
      "execution_count": null,
      "metadata": {
        "colab": {
          "base_uri": "https://localhost:8080/"
        },
        "id": "oyEbreERNyf0",
        "outputId": "0368e0f3-1b4c-4435-89c8-3de32305b1a5"
      },
      "outputs": [
        {
          "output_type": "stream",
          "name": "stdout",
          "text": [
            "Epoch 11\n",
            "-------------------------------\n",
            "loss: 0.233218  [   64/50000]\n",
            "loss: 0.237396  [ 6464/50000]\n",
            "loss: 0.229542  [12864/50000]\n",
            "loss: 0.216172  [19264/50000]\n",
            "loss: 0.256912  [25664/50000]\n",
            "loss: 0.221658  [32064/50000]\n",
            "loss: 0.229157  [38464/50000]\n",
            "loss: 0.246687  [44864/50000]\n",
            "0.43986 2.949883625144139\n",
            "Test Error: \n",
            " Accuracy: 33.4%, Avg loss: 0.275193 \n",
            "\n",
            "Epoch 12\n",
            "-------------------------------\n",
            "loss: 0.262656  [   64/50000]\n",
            "loss: 0.249825  [ 6464/50000]\n",
            "loss: 0.228663  [12864/50000]\n",
            "loss: 0.235467  [19264/50000]\n",
            "loss: 0.239070  [25664/50000]\n",
            "loss: 0.254704  [32064/50000]\n",
            "loss: 0.235232  [38464/50000]\n",
            "loss: 0.257754  [44864/50000]\n",
            "0.45654 2.8972827312536538\n",
            "Test Error: \n",
            " Accuracy: 28.4%, Avg loss: 0.311050 \n",
            "\n",
            "Epoch 13\n",
            "-------------------------------\n",
            "loss: 0.268606  [   64/50000]\n",
            "loss: 0.238164  [ 6464/50000]\n",
            "loss: 0.244784  [12864/50000]\n",
            "loss: 0.198877  [19264/50000]\n",
            "loss: 0.231153  [25664/50000]\n",
            "loss: 0.217310  [32064/50000]\n",
            "loss: 0.229158  [38464/50000]\n",
            "loss: 0.226776  [44864/50000]\n",
            "0.46802 2.84050961304456\n",
            "Test Error: \n",
            " Accuracy: 37.7%, Avg loss: 0.268464 \n",
            "\n",
            "Epoch 14\n",
            "-------------------------------\n",
            "loss: 0.252739  [   64/50000]\n",
            "loss: 0.272376  [ 6464/50000]\n",
            "loss: 0.229781  [12864/50000]\n",
            "loss: 0.255260  [19264/50000]\n",
            "loss: 0.212274  [25664/50000]\n",
            "loss: 0.201870  [32064/50000]\n",
            "loss: 0.235972  [38464/50000]\n",
            "loss: 0.219568  [44864/50000]\n",
            "0.48274 2.7850834759883583\n",
            "Test Error: \n",
            " Accuracy: 41.4%, Avg loss: 0.251072 \n",
            "\n",
            "Epoch 15\n",
            "-------------------------------\n",
            "loss: 0.216751  [   64/50000]\n",
            "loss: 0.192630  [ 6464/50000]\n",
            "loss: 0.210500  [12864/50000]\n",
            "loss: 0.223151  [19264/50000]\n",
            "loss: 0.246306  [25664/50000]\n",
            "loss: 0.202200  [32064/50000]\n",
            "loss: 0.206742  [38464/50000]\n",
            "loss: 0.220242  [44864/50000]\n",
            "0.50226 2.7264434944372624\n",
            "Test Error: \n",
            " Accuracy: 40.1%, Avg loss: 0.258488 \n",
            "\n",
            "Epoch 16\n",
            "-------------------------------\n",
            "loss: 0.223123  [   64/50000]\n",
            "loss: 0.214273  [ 6464/50000]\n",
            "loss: 0.215852  [12864/50000]\n",
            "loss: 0.221801  [19264/50000]\n",
            "loss: 0.214211  [25664/50000]\n",
            "loss: 0.223048  [32064/50000]\n",
            "loss: 0.215287  [38464/50000]\n",
            "loss: 0.220059  [44864/50000]\n",
            "0.51686 2.664939913665876\n",
            "Test Error: \n",
            " Accuracy: 31.0%, Avg loss: 0.303841 \n",
            "\n",
            "Epoch 17\n",
            "-------------------------------\n",
            "loss: 0.276602  [   64/50000]\n",
            "loss: 0.217366  [ 6464/50000]\n",
            "loss: 0.220701  [12864/50000]\n",
            "loss: 0.205440  [19264/50000]\n",
            "loss: 0.183514  [25664/50000]\n",
            "loss: 0.213221  [32064/50000]\n",
            "loss: 0.221983  [38464/50000]\n",
            "loss: 0.209544  [44864/50000]\n",
            "0.53258 2.604538535233587\n",
            "Test Error: \n",
            " Accuracy: 33.4%, Avg loss: 0.306146 \n",
            "\n",
            "Epoch 18\n",
            "-------------------------------\n",
            "loss: 0.292236  [   64/50000]\n",
            "loss: 0.197309  [ 6464/50000]\n",
            "loss: 0.215871  [12864/50000]\n",
            "loss: 0.209743  [19264/50000]\n",
            "loss: 0.188097  [25664/50000]\n",
            "loss: 0.248023  [32064/50000]\n",
            "loss: 0.177095  [38464/50000]\n",
            "loss: 0.196809  [44864/50000]\n",
            "0.54722 2.5468294948805124\n",
            "Test Error: \n",
            " Accuracy: 40.3%, Avg loss: 0.263572 \n",
            "\n",
            "Epoch 19\n",
            "-------------------------------\n",
            "loss: 0.243746  [   64/50000]\n",
            "loss: 0.186096  [ 6464/50000]\n",
            "loss: 0.227615  [12864/50000]\n",
            "loss: 0.213110  [19264/50000]\n",
            "loss: 0.194678  [25664/50000]\n",
            "loss: 0.213859  [32064/50000]\n",
            "loss: 0.212044  [38464/50000]\n",
            "loss: 0.217540  [44864/50000]\n",
            "0.55894 2.4959348265547305\n",
            "Test Error: \n",
            " Accuracy: 37.2%, Avg loss: 0.276680 \n",
            "\n",
            "Epoch 20\n",
            "-------------------------------\n",
            "loss: 0.227751  [   64/50000]\n",
            "loss: 0.196073  [ 6464/50000]\n",
            "loss: 0.229835  [12864/50000]\n",
            "loss: 0.192200  [19264/50000]\n",
            "loss: 0.184294  [25664/50000]\n",
            "loss: 0.189179  [32064/50000]\n",
            "loss: 0.192864  [38464/50000]\n",
            "loss: 0.180366  [44864/50000]\n",
            "0.5724 2.4379221603740007\n",
            "Test Error: \n",
            " Accuracy: 40.8%, Avg loss: 0.257076 \n",
            "\n",
            "Done!\n"
          ]
        }
      ],
      "source": [
        "#DONT RUN THIS CELL\n",
        "\n",
        "epochs = 10\n",
        "checkpoint = 0#len(trAc) # do zero if starting from scratch\n",
        "\n",
        "for t in range(checkpoint, checkpoint + epochs):\n",
        "    print(f\"Epoch {t+1}\\n-------------------------------\")\n",
        "    trainingAcc, trainingLoss = train(trainloader, model, loss_fn, optimizer)\n",
        "    testAccuracy, averageTestloss = test(testloader, model, loss_fn)\n",
        "    scheduler.step(averageTestloss)\n",
        "\n",
        "    trAc.append(trainingAcc)\n",
        "    trLoss.append(trainingLoss)\n",
        "    tsAc.append(testAccuracy)\n",
        "    tsLoss.append(averageTestloss)\n",
        "\n",
        "    \"\"\"\n",
        "    #Save desired values into Google Drive for later use\n",
        "    torch.save({\"training accuracy\" : trAc, \n",
        "                \"training loss\" : trLoss,\n",
        "                \"test accuracy\" : tsAc,\n",
        "                \"averageTestLoss\" : tsLoss}, \"/content/drive/MyDrive/values.pt\")\n",
        "    torch.save({len(trAc) : model.state_dict()}, \"/content/drive/MyDrive/mo.pt\")\n",
        "\"\"\"\n",
        "\n",
        "\n",
        "print(\"Done!\")"
      ]
    },
    {
      "cell_type": "code",
      "source": [
        "\n",
        "# testing for loading stuff\n",
        "\n",
        "\n",
        "\"\"\"\n",
        "print(\"len values\")\n",
        "print(len(torch.load(\"/content/drive/MyDrive/values.pt\")))\n",
        "print()\n",
        "\n",
        "print(\"values\")\n",
        "print(torch.load(\"/content/drive/MyDrive/values.pt\"))\n",
        "print()\n",
        "\n",
        "print(\"len mo\")\n",
        "print(len(torch.load(\"/content/drive/MyDrive/mo.pt\")))\n",
        "print()\n",
        "\n",
        "print(\"mo keys\")\n",
        "print(torch.load(\"/content/drive/MyDrive/mo.pt\").keys())\n",
        "print()\n",
        "\"\"\""
      ],
      "metadata": {
        "colab": {
          "base_uri": "https://localhost:8080/",
          "height": 70
        },
        "id": "PK3vxmQkcFef",
        "outputId": "97dd0f84-ec6f-4c06-ba71-90ff2cfa7bc5"
      },
      "execution_count": null,
      "outputs": [
        {
          "output_type": "execute_result",
          "data": {
            "text/plain": [
              "'\\nprint(\"len values\")\\nprint(len(torch.load(\"/content/drive/MyDrive/values.pt\")))\\nprint()\\n\\nprint(\"values\")\\nprint(torch.load(\"/content/drive/MyDrive/values.pt\"))\\nprint()\\n\\nprint(\"len mo\")\\nprint(len(torch.load(\"/content/drive/MyDrive/mo.pt\")))\\nprint()\\n\\nprint(\"mo keys\")\\nprint(torch.load(\"/content/drive/MyDrive/mo.pt\").keys())\\nprint()\\n'"
            ],
            "application/vnd.google.colaboratory.intrinsic+json": {
              "type": "string"
            }
          },
          "metadata": {},
          "execution_count": 211
        }
      ]
    },
    {
      "cell_type": "code",
      "execution_count": null,
      "metadata": {
        "id": "85znu9yENyf1",
        "outputId": "151a803c-b944-4938-d90a-3f05a2ed63b8",
        "colab": {
          "base_uri": "https://localhost:8080/",
          "height": 579
        }
      },
      "outputs": [
        {
          "output_type": "stream",
          "name": "stdout",
          "text": [
            "[0.23636, 0.26586, 0.29008, 0.31012, 0.32966, 0.34594, 0.36796, 0.3833, 0.40654, 0.42042, 0.43986, 0.45654, 0.46802, 0.48274, 0.50226, 0.51686, 0.53258, 0.54722, 0.55894, 0.5724]\n",
            "[0.29494494317895004, 0.28789055275032893, 0.28148182409117595, 0.275831817551647, 0.2705431474977747, 0.26568296220144044, 0.2599826759999365, 0.25555189918069277, 0.2507101051375994, 0.24608842291109398, 0.24142270077905997, 0.23711776828674405, 0.23247137498062895, 0.2279352205412467, 0.2231360404654537, 0.2181024993281535, 0.21315916400888693, 0.20843617349405727, 0.2042708809456557, 0.19952304125823023]\n",
            "[0.2204, 0.2333, 0.262, 0.2854, 0.2705, 0.3084, 0.2959, 0.3233, 0.3415, 0.3276, 0.33379999999999993, 0.2844, 0.37660000000000005, 0.4141, 0.4012, 0.30960000000000004, 0.3342, 0.4028, 0.3716, 0.4076]\n",
            "[0.29938978659119575, 0.2958855923194035, 0.288162650576063, 0.2835414421026874, 0.28935086119706466, 0.27762736123838244, 0.2805513119811465, 0.2767079841748924, 0.27135810047198256, 0.280774702122257, 0.27519283287084784, 0.3110500727869143, 0.26846396752223844, 0.2510722385849922, 0.2584875350355343, 0.303840553115128, 0.30614640777278096, 0.26357236998096395, 0.2766801458635148, 0.2570755490262038]\n"
          ]
        },
        {
          "output_type": "execute_result",
          "data": {
            "text/plain": [
              "Text(0, 0.5, 'Accuracy')"
            ]
          },
          "metadata": {},
          "execution_count": 242
        },
        {
          "output_type": "display_data",
          "data": {
            "text/plain": [
              "<Figure size 640x480 with 1 Axes>"
            ],
            "image/png": "[encoded data removed]"
          },
          "metadata": {}
        }
      ],
      "source": [
        "\n",
        "#Load in the values again...\n",
        "#But this time do some processing on the values because the train and test functions\n",
        "#are messed up \n",
        "\n",
        "vals = torch.load(\"/content/drive/MyDrive/values.pt\")\n",
        "\n",
        "trAc = vals['training accuracy']\n",
        "trLoss = vals['training loss']\n",
        "tsAc = vals['test accuracy']\n",
        "tsLoss = vals['averageTestLoss']\n",
        "\n",
        "for i in range(len(trLoss)):\n",
        "  trLoss[i] = (trLoss[i] * 64) / len(trainloader)\n",
        "\n",
        "for i in range(len(tsAc)):\n",
        "  tsAc[i] = tsAc[i]\n",
        "\n",
        "for i in range(len(trLoss)):\n",
        "  tsLoss[i] = (tsLoss[i] * len(testloader))\n",
        "\n",
        "print(trAc)\n",
        "print(trLoss)\n",
        "print(tsAc)\n",
        "print(tsLoss)\n",
        "\n",
        "\n",
        "plt.scatter([i for i in range(20)], trAc)\n",
        "plt.title(\"Average Training Accuracy\")\n",
        "plt.xlabel(\"epoch\")\n",
        "plt.ylabel(\"Accuracy\")\n",
        "\n",
        "\n"
      ]
    },
    {
      "cell_type": "code",
      "source": [
        "plt.scatter([i for i in range(20)], trLoss)\n",
        "plt.title(\"Average training Loss\")\n",
        "plt.xlabel(\"epoch\")\n",
        "plt.ylabel(\"Loss\")"
      ],
      "metadata": {
        "colab": {
          "base_uri": "https://localhost:8080/",
          "height": 489
        },
        "id": "pTF-AqQBcFTk",
        "outputId": "3f6af85e-e0a4-402c-eedf-e836f40b8c4d"
      },
      "execution_count": null,
      "outputs": [
        {
          "output_type": "execute_result",
          "data": {
            "text/plain": [
              "Text(0, 0.5, 'Loss')"
            ]
          },
          "metadata": {},
          "execution_count": 243
        },
        {
          "output_type": "display_data",
          "data": {
            "text/plain": [
              "<Figure size 640x480 with 1 Axes>"
            ],
            "image/png": "[encoded data removed]"
          },
          "metadata": {}
        }
      ]
    },
    {
      "cell_type": "code",
      "source": [
        "plt.scatter([i for i in range(20)], tsAc)\n",
        "plt.title(\"Average Test Accuracy\")\n",
        "plt.xlabel(\"epoch\")\n",
        "plt.ylabel(\"Accuracy\")"
      ],
      "metadata": {
        "colab": {
          "base_uri": "https://localhost:8080/",
          "height": 489
        },
        "id": "6Ta5GG38ctH7",
        "outputId": "2126c2c0-1ba1-48a4-9789-9f858cb4c7c8"
      },
      "execution_count": 4,
      "outputs": [
        {
          "output_type": "execute_result",
          "data": {
            "text/plain": [
              "Text(0, 0.5, 'Accuracy')"
            ]
          },
          "metadata": {},
          "execution_count": 4
        },
        {
          "output_type": "display_data",
          "data": {
            "text/plain": [
              "<Figure size 640x480 with 1 Axes>"
            ],
            "image/png": "[encoded data removed]"
          },
          "metadata": {}
        }
      ]
    },
    {
      "cell_type": "code",
      "source": [
        "plt.scatter([i for i in range(20)], tsLoss)\n",
        "plt.title(\"Average Test Loss\")\n",
        "plt.xlabel(\"epoch\")\n",
        "plt.ylabel(\"Loss\")"
      ],
      "metadata": {
        "colab": {
          "base_uri": "https://localhost:8080/",
          "height": 489
        },
        "id": "347L4PTrc0zG",
        "outputId": "fa693d30-6b7c-498c-a21e-444d7ced9c54"
      },
      "execution_count": null,
      "outputs": [
        {
          "output_type": "execute_result",
          "data": {
            "text/plain": [
              "Text(0, 0.5, 'Loss')"
            ]
          },
          "metadata": {},
          "execution_count": 245
        },
        {
          "output_type": "display_data",
          "data": {
            "text/plain": [
              "<Figure size 640x480 with 1 Axes>"
            ],
            "image/png": "[encoded data removed]"
          },
          "metadata": {}
        }
      ]
    },
    {
      "cell_type": "markdown",
      "metadata": {
        "id": "Q7rrmQsfs8iG"
      },
      "source": [
        "#__Task 4 Weight transfer(Transfer learning)(5 Points)__\n",
        "\n",
        "There can be two possible scenarios when you are given neural network architcture: One is build everything entirely from the scratch, as you implemented above, and the other is using the pretrained model. The former is preferred when there is no pretrained model or you are training with novel(or unpopular) dataset. The latter is generally more preferred, especially if you are working in computer vision or natural langauge processing related area, because most of the pretrained neural network works very well and their pretrained dataset is very large scale such that starting from raw training might consume great amount of time. For the latter case, it's just one line of code:"
      ]
    },
    {
      "cell_type": "code",
      "execution_count": null,
      "metadata": {
        "id": "mYRb-JrSNyf3"
      },
      "outputs": [],
      "source": [
        "#model = torch.hub.load('pytorch/vision:v0.10.0', 'alexnet', pretrained=True) #DO NOT USE THIS CODE IN THIS ASSIGNMENT"
      ]
    },
    {
      "cell_type": "markdown",
      "metadata": {
        "id": "tz8ktpNINyf4"
      },
      "source": [
        "In this task, we will slightly tweak: You will not use the above code to bring a pretrained model. Instead, you will transfer the weights of the pretrained model to the model you built above. Knowing this will help you later when you want to build your own model but basic flow comes from previous existing models.\n",
        "\n",
        "One thing you should know, and should remember for your future is that Pytorch stores trained weights as a dictionary data structure, the key and value, and their name of the key has a pattern such that you can easily load your desired key and corresponding weights.\n",
        "\n",
        "\n",
        "If your implementation is correct, your final accuracy should be around 80%\n",
        "\n",
        "\n",
        "__TODOs: Implement below weight transfer function. Then train and test your pretrained model.Provide graphs of training accuracy, test accuracy and training loss. Report final accuracy__"
      ]
    },
    {
      "cell_type": "code",
      "execution_count": null,
      "metadata": {
        "id": "vhjaXCUMthJO",
        "colab": {
          "base_uri": "https://localhost:8080/"
        },
        "outputId": "5cd19850-0e0b-4660-eb22-f65dcef2e98f"
      },
      "outputs": [
        {
          "output_type": "stream",
          "name": "stderr",
          "text": [
            "Downloading: \"https://download.pytorch.org/models/alexnet-owt-4df8aa71.pth\" to /root/.cache/torch/hub/checkpoints/alexnet-owt-4df8aa71.pth\n",
            "100%|██████████| 233M/233M [00:03<00:00, 79.0MB/s]\n"
          ]
        }
      ],
      "source": [
        "from torchvision._internally_replaced_utils import load_state_dict_from_url # This is the hint!\n",
        "\n",
        "def Load_Alexnet_Weight_Transferred(pretrained=True, **kwargs):\n",
        "    r\"\"\"AlexNet model architecture from the\n",
        "    `\"One weird trick...\" <https://arxiv.org/abs/1404.5997>`_ paper.\n",
        "\n",
        "    Args:\n",
        "        pretrained (bool): If True, returns a model pre-trained on ImageNet\n",
        "    \"\"\"\n",
        "    model_urls = {\n",
        "            'alexnet': 'https://download.pytorch.org/models/alexnet-owt-4df8aa71.pth',\n",
        "    }    \n",
        "    \n",
        "    model2 = AlexNet().to(device)\n",
        "\n",
        "    \n",
        "    loaded = load_state_dict_from_url(model_urls[\"alexnet\"])\n",
        "\n",
        "    \n",
        "\n",
        "    keys = list(loaded.keys())\n",
        "\n",
        "    if pretrained:\n",
        "\n",
        "        for i in keys:\n",
        "            \n",
        "            if i not in model2.state_dict() or model2.state_dict()[i].shape != loaded[i].shape:\n",
        "\n",
        "              loaded.pop(i)\n",
        "            \n",
        "        \n",
        "        model2.load_state_dict(loaded, strict = False)\n",
        "\n",
        "        return model2\n",
        "    return model2\n",
        "\n",
        "\n",
        "model_pretrained = Load_Alexnet_Weight_Transferred(pretrained=True)"
      ]
    },
    {
      "cell_type": "code",
      "execution_count": null,
      "metadata": {
        "id": "Z2yQCQd1Nyf5"
      },
      "outputs": [],
      "source": [
        "num_iter=20\n",
        "loss_fn=nn.BCELoss()\n",
        "optimizer2=torch.torch.optim.SGD(model_pretrained.parameters(),lr=0.1)\n",
        "scheduler2 = torch.optim.lr_scheduler.ReduceLROnPlateau(optimizer2, 'min')"
      ]
    },
    {
      "cell_type": "code",
      "execution_count": null,
      "metadata": {
        "id": "ORQpheoyuLdQ"
      },
      "outputs": [],
      "source": []
    },
    {
      "cell_type": "code",
      "source": [
        "#Lets reinitialize this stuff\n",
        "\n",
        "trAc = []\n",
        "trLoss = []\n",
        "tsAc = []\n",
        "tsLoss = []"
      ],
      "metadata": {
        "id": "2v57SdfzxFl6"
      },
      "execution_count": null,
      "outputs": []
    },
    {
      "cell_type": "code",
      "source": [
        "\n",
        "\n",
        "epochs = 20\n",
        "checkpoint = 0#len(trAc)\n",
        "\n",
        "for t in range(checkpoint, checkpoint + epochs):\n",
        "    print(f\"Epoch {t+1}\\n-------------------------------\")\n",
        "    trainingAcc, trainingLoss = train(trainloader, model_pretrained, loss_fn, optimizer2)\n",
        "    testAccuracy, averageTestloss = test(testloader, model_pretrained, loss_fn)\n",
        "    scheduler2.step(averageTestloss)\n",
        "\n",
        "    trAc.append(trainingAcc)\n",
        "    trLoss.append(trainingLoss * 64 / len(trainloader)) # actually do the correct values this time\n",
        "    tsAc.append(testAccuracy * 100)\n",
        "    tsLoss.append(averageTestloss)\n",
        "\n",
        "\"\"\" # more saving stuff \n",
        "    torch.save({\"training accuracy\" : trAc, \n",
        "                \"training loss\" : trLoss,\n",
        "                \"test accuracy\" : tsAc,\n",
        "                \"averageTestLoss\" : tsLoss}, \"/content/drive/MyDrive/weighted.pt\")\n",
        "    torch.save({len(trAc) : model_pretrained.state_dict()}, \"/content/drive/MyDrive/modifiedWt.pt\")\n",
        "\"\"\"\"\n",
        "\n",
        "\n",
        "print(\"Done!\")"
      ],
      "metadata": {
        "colab": {
          "base_uri": "https://localhost:8080/"
        },
        "id": "yakgyNWoxD9B",
        "outputId": "2b18c0c5-58e5-4239-dd17-2c5d16329bc8"
      },
      "execution_count": null,
      "outputs": [
        {
          "output_type": "stream",
          "name": "stdout",
          "text": [
            "Epoch 1\n",
            "-------------------------------\n",
            "loss: 0.263618  [   64/50000]\n",
            "loss: 0.271635  [ 6464/50000]\n",
            "loss: 0.257235  [12864/50000]\n",
            "loss: 0.292640  [19264/50000]\n",
            "loss: 0.243570  [25664/50000]\n",
            "loss: 0.232593  [32064/50000]\n",
            "loss: 0.233067  [38464/50000]\n",
            "loss: 0.233551  [44864/50000]\n",
            "training accuracy: 0.40498 average training loss: 3.0633236025460064\n",
            "Test Error: \n",
            " Accuracy: 36.3%, Avg loss: 0.268316 \n",
            "\n",
            "Epoch 2\n",
            "-------------------------------\n",
            "loss: 0.253251  [   64/50000]\n",
            "loss: 0.237293  [ 6464/50000]\n",
            "loss: 0.218414  [12864/50000]\n",
            "loss: 0.220143  [19264/50000]\n",
            "loss: 0.244246  [25664/50000]\n",
            "loss: 0.223240  [32064/50000]\n",
            "loss: 0.199465  [38464/50000]\n",
            "loss: 0.216851  [44864/50000]\n",
            "training accuracy: 0.49548 average training loss: 2.736734872451052\n",
            "Test Error: \n",
            " Accuracy: 35.5%, Avg loss: 0.285725 \n",
            "\n",
            "Epoch 3\n",
            "-------------------------------\n",
            "loss: 0.271679  [   64/50000]\n",
            "loss: 0.191683  [ 6464/50000]\n",
            "loss: 0.201103  [12864/50000]\n",
            "loss: 0.195273  [19264/50000]\n",
            "loss: 0.214831  [25664/50000]\n",
            "loss: 0.189335  [32064/50000]\n",
            "loss: 0.218920  [38464/50000]\n",
            "loss: 0.182766  [44864/50000]\n",
            "training accuracy: 0.55836 average training loss: 2.5048351197037846\n",
            "Test Error: \n",
            " Accuracy: 41.8%, Avg loss: 0.244767 \n",
            "\n",
            "Epoch 4\n",
            "-------------------------------\n",
            "loss: 0.231921  [   64/50000]\n",
            "loss: 0.192883  [ 6464/50000]\n",
            "loss: 0.200279  [12864/50000]\n",
            "loss: 0.214000  [19264/50000]\n",
            "loss: 0.180647  [25664/50000]\n",
            "loss: 0.193195  [32064/50000]\n",
            "loss: 0.214631  [38464/50000]\n",
            "loss: 0.175591  [44864/50000]\n",
            "training accuracy: 0.60066 average training loss: 2.326671510003507\n",
            "Test Error: \n",
            " Accuracy: 39.4%, Avg loss: 0.283445 \n",
            "\n",
            "Epoch 5\n",
            "-------------------------------\n",
            "loss: 0.276767  [   64/50000]\n",
            "loss: 0.199362  [ 6464/50000]\n",
            "loss: 0.187717  [12864/50000]\n",
            "loss: 0.177681  [19264/50000]\n",
            "loss: 0.191769  [25664/50000]\n",
            "loss: 0.177302  [32064/50000]\n",
            "loss: 0.187864  [38464/50000]\n",
            "loss: 0.144755  [44864/50000]\n",
            "training accuracy: 0.63278 average training loss: 2.16966656409204\n",
            "Test Error: \n",
            " Accuracy: 52.8%, Avg loss: 0.216285 \n",
            "\n",
            "Epoch 6\n",
            "-------------------------------\n",
            "loss: 0.211951  [   64/50000]\n",
            "loss: 0.185972  [ 6464/50000]\n",
            "loss: 0.189978  [12864/50000]\n",
            "loss: 0.163068  [19264/50000]\n",
            "loss: 0.218632  [25664/50000]\n",
            "loss: 0.165763  [32064/50000]\n",
            "loss: 0.183295  [38464/50000]\n",
            "loss: 0.173197  [44864/50000]\n",
            "training accuracy: 0.65624 average training loss: 2.06610548007302\n",
            "Test Error: \n",
            " Accuracy: 59.8%, Avg loss: 0.204754 \n",
            "\n",
            "Epoch 7\n",
            "-------------------------------\n",
            "loss: 0.181342  [   64/50000]\n",
            "loss: 0.161383  [ 6464/50000]\n",
            "loss: 0.154116  [12864/50000]\n",
            "loss: 0.154735  [19264/50000]\n",
            "loss: 0.145160  [25664/50000]\n",
            "loss: 0.145685  [32064/50000]\n",
            "loss: 0.127154  [38464/50000]\n",
            "loss: 0.162004  [44864/50000]\n",
            "training accuracy: 0.67574 average training loss: 1.982189086964354\n",
            "Test Error: \n",
            " Accuracy: 54.4%, Avg loss: 0.218187 \n",
            "\n",
            "Epoch 8\n",
            "-------------------------------\n",
            "loss: 0.185584  [   64/50000]\n",
            "loss: 0.162014  [ 6464/50000]\n",
            "loss: 0.149086  [12864/50000]\n",
            "loss: 0.147214  [19264/50000]\n",
            "loss: 0.164269  [25664/50000]\n",
            "loss: 0.159742  [32064/50000]\n",
            "loss: 0.172698  [38464/50000]\n",
            "loss: 0.162224  [44864/50000]\n",
            "training accuracy: 0.68882 average training loss: 1.8963123046560213\n",
            "Test Error: \n",
            " Accuracy: 58.5%, Avg loss: 0.200432 \n",
            "\n",
            "Epoch 9\n",
            "-------------------------------\n",
            "loss: 0.154486  [   64/50000]\n",
            "loss: 0.139513  [ 6464/50000]\n",
            "loss: 0.158954  [12864/50000]\n",
            "loss: 0.127962  [19264/50000]\n",
            "loss: 0.145998  [25664/50000]\n",
            "loss: 0.139526  [32064/50000]\n",
            "loss: 0.134636  [38464/50000]\n",
            "loss: 0.152276  [44864/50000]\n",
            "training accuracy: 0.704 average training loss: 1.8325124979019165\n",
            "Test Error: \n",
            " Accuracy: 54.9%, Avg loss: 0.213867 \n",
            "\n",
            "Epoch 10\n",
            "-------------------------------\n",
            "loss: 0.164148  [   64/50000]\n",
            "loss: 0.137059  [ 6464/50000]\n",
            "loss: 0.151263  [12864/50000]\n",
            "loss: 0.125342  [19264/50000]\n",
            "loss: 0.115677  [25664/50000]\n",
            "loss: 0.138085  [32064/50000]\n",
            "loss: 0.180342  [38464/50000]\n",
            "loss: 0.133207  [44864/50000]\n",
            "training accuracy: 0.71544 average training loss: 1.7711658569751307\n",
            "Test Error: \n",
            " Accuracy: 60.1%, Avg loss: 0.196593 \n",
            "\n",
            "Epoch 11\n",
            "-------------------------------\n",
            "loss: 0.136307  [   64/50000]\n",
            "loss: 0.134183  [ 6464/50000]\n",
            "loss: 0.120658  [12864/50000]\n",
            "loss: 0.127341  [19264/50000]\n",
            "loss: 0.102762  [25664/50000]\n",
            "loss: 0.175523  [32064/50000]\n",
            "loss: 0.148938  [38464/50000]\n",
            "loss: 0.157644  [44864/50000]\n",
            "training accuracy: 0.72766 average training loss: 1.7190600380999967\n",
            "Test Error: \n",
            " Accuracy: 57.9%, Avg loss: 0.202913 \n",
            "\n",
            "Epoch 12\n",
            "-------------------------------\n",
            "loss: 0.206077  [   64/50000]\n",
            "loss: 0.147774  [ 6464/50000]\n",
            "loss: 0.156426  [12864/50000]\n",
            "loss: 0.114466  [19264/50000]\n",
            "loss: 0.117486  [25664/50000]\n",
            "loss: 0.127511  [32064/50000]\n",
            "loss: 0.106618  [38464/50000]\n",
            "loss: 0.147229  [44864/50000]\n",
            "training accuracy: 0.73808 average training loss: 1.663030338124372\n",
            "Test Error: \n",
            " Accuracy: 66.3%, Avg loss: 0.174117 \n",
            "\n",
            "Epoch 13\n",
            "-------------------------------\n",
            "loss: 0.152493  [   64/50000]\n",
            "loss: 0.137300  [ 6464/50000]\n",
            "loss: 0.110856  [12864/50000]\n",
            "loss: 0.162017  [19264/50000]\n",
            "loss: 0.132373  [25664/50000]\n",
            "loss: 0.101068  [32064/50000]\n",
            "loss: 0.135455  [38464/50000]\n",
            "loss: 0.154237  [44864/50000]\n",
            "training accuracy: 0.74562 average training loss: 1.6257049106061459\n",
            "Test Error: \n",
            " Accuracy: 63.7%, Avg loss: 0.186149 \n",
            "\n",
            "Epoch 14\n",
            "-------------------------------\n",
            "loss: 0.136614  [   64/50000]\n",
            "loss: 0.131311  [ 6464/50000]\n",
            "loss: 0.137979  [12864/50000]\n",
            "loss: 0.093017  [19264/50000]\n",
            "loss: 0.140233  [25664/50000]\n",
            "loss: 0.147092  [32064/50000]\n",
            "loss: 0.107785  [38464/50000]\n",
            "loss: 0.147306  [44864/50000]\n",
            "training accuracy: 0.75144 average training loss: 1.5729194957530126\n",
            "Test Error: \n",
            " Accuracy: 64.6%, Avg loss: 0.186286 \n",
            "\n",
            "Epoch 15\n",
            "-------------------------------\n",
            "loss: 0.180337  [   64/50000]\n",
            "loss: 0.138732  [ 6464/50000]\n",
            "loss: 0.141165  [12864/50000]\n",
            "loss: 0.104019  [19264/50000]\n",
            "loss: 0.104212  [25664/50000]\n",
            "loss: 0.111726  [32064/50000]\n",
            "loss: 0.116654  [38464/50000]\n",
            "loss: 0.152944  [44864/50000]\n",
            "training accuracy: 0.76242 average training loss: 1.5398994911229238\n",
            "Test Error: \n",
            " Accuracy: 63.6%, Avg loss: 0.187223 \n",
            "\n",
            "Epoch 16\n",
            "-------------------------------\n",
            "loss: 0.129715  [   64/50000]\n",
            "loss: 0.140037  [ 6464/50000]\n",
            "loss: 0.131003  [12864/50000]\n",
            "loss: 0.116945  [19264/50000]\n",
            "loss: 0.136508  [25664/50000]\n",
            "loss: 0.119126  [32064/50000]\n",
            "loss: 0.089865  [38464/50000]\n",
            "loss: 0.134707  [44864/50000]\n",
            "training accuracy: 0.76692 average training loss: 1.5147712734760717\n",
            "Test Error: \n",
            " Accuracy: 53.2%, Avg loss: 0.228663 \n",
            "\n",
            "Epoch 17\n",
            "-------------------------------\n",
            "loss: 0.229201  [   64/50000]\n",
            "loss: 0.148704  [ 6464/50000]\n",
            "loss: 0.095205  [12864/50000]\n",
            "loss: 0.140375  [19264/50000]\n",
            "loss: 0.112797  [25664/50000]\n",
            "loss: 0.111334  [32064/50000]\n",
            "loss: 0.116759  [38464/50000]\n",
            "loss: 0.135609  [44864/50000]\n",
            "training accuracy: 0.77224 average training loss: 1.4755230449372903\n",
            "Test Error: \n",
            " Accuracy: 62.7%, Avg loss: 0.197416 \n",
            "\n",
            "Epoch 18\n",
            "-------------------------------\n",
            "loss: 0.140912  [   64/50000]\n",
            "loss: 0.128950  [ 6464/50000]\n",
            "loss: 0.105078  [12864/50000]\n",
            "loss: 0.126833  [19264/50000]\n",
            "loss: 0.107567  [25664/50000]\n",
            "loss: 0.120916  [32064/50000]\n",
            "loss: 0.141146  [38464/50000]\n",
            "loss: 0.148478  [44864/50000]\n",
            "training accuracy: 0.7786 average training loss: 1.445072130067274\n",
            "Test Error: \n",
            " Accuracy: 65.6%, Avg loss: 0.173249 \n",
            "\n",
            "Epoch 19\n",
            "-------------------------------\n",
            "loss: 0.095048  [   64/50000]\n",
            "loss: 0.135399  [ 6464/50000]\n",
            "loss: 0.124358  [12864/50000]\n",
            "loss: 0.101874  [19264/50000]\n",
            "loss: 0.123986  [25664/50000]\n",
            "loss: 0.115231  [32064/50000]\n",
            "loss: 0.085098  [38464/50000]\n",
            "loss: 0.107753  [44864/50000]\n",
            "training accuracy: 0.7856 average training loss: 1.4135660863248631\n",
            "Test Error: \n",
            " Accuracy: 64.1%, Avg loss: 0.188801 \n",
            "\n",
            "Epoch 20\n",
            "-------------------------------\n",
            "loss: 0.122699  [   64/50000]\n",
            "loss: 0.145578  [ 6464/50000]\n",
            "loss: 0.093239  [12864/50000]\n",
            "loss: 0.103774  [19264/50000]\n",
            "loss: 0.124947  [25664/50000]\n",
            "loss: 0.136755  [32064/50000]\n",
            "loss: 0.163498  [38464/50000]\n",
            "loss: 0.140208  [44864/50000]\n",
            "training accuracy: 0.7902 average training loss: 1.3850593941751868\n",
            "Test Error: \n",
            " Accuracy: 65.7%, Avg loss: 0.174110 \n",
            "\n",
            "Done!\n"
          ]
        }
      ]
    },
    {
      "cell_type": "code",
      "source": [
        "#torch.save({\"epoch 20\" : optimizer2}, \"/content/drive/MyDrive/optimizer.pt\") # save the optimizer"
      ],
      "metadata": {
        "id": "ZAKowMcbe99R"
      },
      "execution_count": null,
      "outputs": []
    },
    {
      "cell_type": "code",
      "source": [
        " # load more \n",
        "print(\"values\")\n",
        "a = torch.load(\"/content/drive/MyDrive/valbrc.pt\")\n",
        "print()\n",
        "\n",
        "print(a[\"test accuracy\"])\n",
        "\n",
        "\n",
        "tsAc = a[\"test accuracy\"]\n",
        "trAc = a[\"training accuracy\"]\n",
        "tsLoss = a[\"averageTestLoss\"]\n",
        "trLoss = a[\"training loss\"]\n",
        "\"\"\"\n",
        "for i in range(len(tsAc)):\n",
        "  tsAc[i] = tsAc[i]*100 \n",
        "\n",
        "\n",
        "print(len(tsAc))\"\"\""
      ],
      "metadata": {
        "colab": {
          "base_uri": "https://localhost:8080/",
          "height": 107
        },
        "id": "D1EQ_8u1hMgH",
        "outputId": "29646c8d-136c-4127-965b-eb25b9e3fa17"
      },
      "execution_count": null,
      "outputs": [
        {
          "output_type": "stream",
          "name": "stdout",
          "text": [
            "values\n",
            "\n",
            "[0.3772446054021428, 0.2011971228811428, 0.3772446054021428, 0.3772446054021428, 0.3772446054021428, 0.3772446054021428, 0.3772446054021428, 0.3772446054021428, 0.3772446054021428, 0.3772446054021428, 0.3772446054021428]\n"
          ]
        },
        {
          "output_type": "execute_result",
          "data": {
            "text/plain": [
              "'\\nfor i in range(len(tsAc)):\\n tsAc[i] = tsAc[i]*100 \\n\\n\\nprint(len(tsAc))'"
            ],
            "application/vnd.google.colaboratory.intrinsic+json": {
              "type": "string"
            }
          },
          "metadata": {},
          "execution_count": 41
        }
      ]
    },
    {
      "cell_type": "code",
      "source": [
        "plt.scatter([i for i in range(21)], trAc)\n",
        "plt.title(\"Weight Transfer Training Accuracy\")\n",
        "plt.xlabel(\"epoch\")\n",
        "plt.ylabel(\"Accuracy\")\n",
        "# Final training accuracy is 79.02%"
      ],
      "metadata": {
        "colab": {
          "base_uri": "https://localhost:8080/",
          "height": 489
        },
        "id": "fY329OUcUfV2",
        "outputId": "ef51c68f-f8ef-4cf8-c81e-1690d8170506"
      },
      "execution_count": null,
      "outputs": [
        {
          "output_type": "execute_result",
          "data": {
            "text/plain": [
              "Text(0, 0.5, 'Accuracy')"
            ]
          },
          "metadata": {},
          "execution_count": 250
        },
        {
          "output_type": "display_data",
          "data": {
            "text/plain": [
              "<Figure size 640x480 with 1 Axes>"
            ],
            "image/png": "[encoded data removed]"
          },
          "metadata": {}
        }
      ]
    },
    {
      "cell_type": "code",
      "source": [
        "plt.scatter([i for i in range(21)], trLoss)\n",
        "plt.title(\"Weight Transfer Average training Loss\")\n",
        "plt.xlabel(\"epoch\")\n",
        "plt.ylabel(\"Loss\")"
      ],
      "metadata": {
        "colab": {
          "base_uri": "https://localhost:8080/",
          "height": 489
        },
        "id": "LdwUJPh8Vk9S",
        "outputId": "5321ee17-2052-4e95-eba1-466a136ae162"
      },
      "execution_count": null,
      "outputs": [
        {
          "output_type": "execute_result",
          "data": {
            "text/plain": [
              "Text(0, 0.5, 'Loss')"
            ]
          },
          "metadata": {},
          "execution_count": 251
        },
        {
          "output_type": "display_data",
          "data": {
            "text/plain": [
              "<Figure size 640x480 with 1 Axes>"
            ],
            "image/png": "[encoded data removed]"
          },
          "metadata": {}
        }
      ]
    },
    {
      "cell_type": "code",
      "source": [
        "plt.scatter([i for i in range(21)], tsAc)\n",
        "plt.title(\"Weight Transfer Test Accuracy\")\n",
        "plt.xlabel(\"epoch\")\n",
        "plt.ylabel(\"Accuracy\")\n",
        "\n",
        "# Final test accuracy is 65.7%"
      ],
      "metadata": {
        "colab": {
          "base_uri": "https://localhost:8080/",
          "height": 489
        },
        "id": "A1Kvz_n1Vved",
        "outputId": "9cd2e788-510f-4f41-d564-2d90efd98b8a"
      },
      "execution_count": null,
      "outputs": [
        {
          "output_type": "execute_result",
          "data": {
            "text/plain": [
              "Text(0, 0.5, 'Accuracy')"
            ]
          },
          "metadata": {},
          "execution_count": 252
        },
        {
          "output_type": "display_data",
          "data": {
            "text/plain": [
              "<Figure size 640x480 with 1 Axes>"
            ],
            "image/png": "[encoded data removed]"
          },
          "metadata": {}
        }
      ]
    },
    {
      "cell_type": "code",
      "source": [
        "plt.scatter([i for i in range(21)], tsLoss)\n",
        "plt.title(\"Weight Transfer Test Loss\")\n",
        "plt.xlabel(\"epoch\")\n",
        "plt.ylabel(\"Loss\")"
      ],
      "metadata": {
        "colab": {
          "base_uri": "https://localhost:8080/",
          "height": 489
        },
        "id": "tA94YKIrV4Pe",
        "outputId": "1a73c52f-3f9e-4137-fb13-139317cb3d78"
      },
      "execution_count": null,
      "outputs": [
        {
          "output_type": "execute_result",
          "data": {
            "text/plain": [
              "Text(0, 0.5, 'Loss')"
            ]
          },
          "metadata": {},
          "execution_count": 253
        },
        {
          "output_type": "display_data",
          "data": {
            "text/plain": [
              "<Figure size 640x480 with 1 Axes>"
            ],
            "image/png": "[encoded data removed]"
          },
          "metadata": {}
        }
      ]
    },
    {
      "cell_type": "markdown",
      "metadata": {
        "id": "CcFagOoi1HuU"
      },
      "source": [
        "#__Task 5 Evaluate your model(10 Points)__\n",
        "\n",
        "You have a full loop of both train and test. Let's see how good your model is. In the lecture, we learned precision, recall. In addition to these metrics, one way to visualize our model performance is to show a heatmap of classification result. You need to build a (# classes)x(# classes) matrix. Then, for each sample in the test set with a true label ith class, we can get jth class through your model. Then we add a value to matrix[i][j], then we normalize the matrix. By doing so, we can visually show our performance. Remember that in CIFAR10, we have 10 classes. \n",
        "\n",
        "__TODOs__\n",
        "1. Visualize the heatmap, and report which class showed most accurate, and which 'task' showed most mistakes, i.e, predicted j when the true label is i.\n",
        "2. Provide 3 cases of failed prediction with most mistakes 'task'. So you should show a total of 6 images here. Briefly write why you think the model can't predict well."
      ]
    },
    {
      "cell_type": "code",
      "source": [
        "def EvaluateModel(testloader, model, hmap, failedPredictions):\n",
        "    size = len(testloader.dataset)\n",
        "    num_batches = len(testloader)\n",
        "    \n",
        "    model.eval()\n",
        "    test_loss, correct = 0, 0\n",
        "    totalFailedPredictions = list()\n",
        "\n",
        "    batch = 0 \n",
        "    \n",
        "    with torch.no_grad():\n",
        "        for X, y in testloader:\n",
        "\n",
        "            \n",
        "            X, y = X.to(device), y.to(device)\n",
        "            \n",
        "            y = torch.nn.functional.one_hot(y, num_classes= 10)\n",
        "        \n",
        "            y = y.to(device).float()\n",
        "            \n",
        "            \n",
        "            pred = model(X)\n",
        "\n",
        "            \n",
        "            final_layer=nn.MaxPool2d((pred.size(2),pred.size(3)))\n",
        "            pred=final_layer(pred)\n",
        "            pred=torch.reshape(pred,(-1,10))#(-1,10)\n",
        "            pred=F.sigmoid(pred)     \n",
        "            \n",
        "            \n",
        "\n",
        "\n",
        "            for i in range(len(pred.argmax(1))):\n",
        "              predicted = pred.argmax(1)[i].item()\n",
        "              actual = y.argmax(1)[i].item()\n",
        "              hmap[actual][predicted] += 1\n",
        "\n",
        "              \n",
        "              \n",
        "              if failedPredictions[1] == predicted and failedPredictions[0] == actual:\n",
        "                totalFailedPredictions.append(batch * 64 + i)\n",
        "\n",
        "            batch += 1\n",
        "            \n",
        "\n",
        "\n",
        "        \n",
        "        for i in range(len(hmap)):\n",
        "          hmap[:,i] = hmap[:,i] / np.sum(hmap[:,i])\n",
        "        \n",
        "\n",
        "    return hmap, totalFailedPredictions\n",
        "\n",
        "    "
      ],
      "metadata": {
        "id": "MXwWP4tDhi3Y"
      },
      "execution_count": null,
      "outputs": []
    },
    {
      "cell_type": "code",
      "execution_count": null,
      "metadata": {
        "id": "EhA6JV_b13QH"
      },
      "outputs": [],
      "source": [
        "import numpy as np \n",
        "\n",
        "hmap = np.zeros((10, 10))\n",
        "\n",
        "hmap, totalFailedPredictions = EvaluateModel(testloader, model_pretrained, hmap, [8, 0]) \n",
        "# [8, 0] is the highest error prediction \n",
        "# can initialize with [0, 0] and then rerun function with the highest error class \n",
        "\n",
        "\n",
        "\n",
        "\n"
      ]
    },
    {
      "cell_type": "code",
      "source": [
        "ax = plt.gca()\n",
        "\n",
        "ax.imshow(hmap)\n",
        "\n",
        "ordered = [\"\" for i in range(10)]\n",
        "\n",
        "for key in testset.class_to_idx.keys():\n",
        "  classnum = testset.class_to_idx[key]\n",
        "  ordered[classnum] = key\n",
        "\n",
        "\n",
        "print([\"bear\" for j in range(10)])\n",
        "\n",
        "ax.set_xticks([float(i) for i in range(10)], ordered, rotation = 45)\n",
        "ax.set_yticks([float(i) for i in range(10)], ordered)"
      ],
      "metadata": {
        "colab": {
          "base_uri": "https://localhost:8080/",
          "height": 672
        },
        "id": "H8QzdBGYkPfW",
        "outputId": "4f8449cf-b52b-4b05-b7b8-53ff536c16e4"
      },
      "execution_count": null,
      "outputs": [
        {
          "output_type": "stream",
          "name": "stdout",
          "text": [
            "['bear', 'bear', 'bear', 'bear', 'bear', 'bear', 'bear', 'bear', 'bear', 'bear']\n"
          ]
        },
        {
          "output_type": "execute_result",
          "data": {
            "text/plain": [
              "[<matplotlib.axis.YTick at 0x7f4eed60ccd0>,\n",
              " <matplotlib.axis.YTick at 0x7f4eed60c8b0>,\n",
              " <matplotlib.axis.YTick at 0x7f4eed3425e0>,\n",
              " <matplotlib.axis.YTick at 0x7f4eed30e1c0>,\n",
              " <matplotlib.axis.YTick at 0x7f4eed304bb0>,\n",
              " <matplotlib.axis.YTick at 0x7f4eed31bca0>,\n",
              " <matplotlib.axis.YTick at 0x7f4eed3234c0>,\n",
              " <matplotlib.axis.YTick at 0x7f4eed31ba60>,\n",
              " <matplotlib.axis.YTick at 0x7f4eed30eee0>,\n",
              " <matplotlib.axis.YTick at 0x7f4eed323d30>]"
            ]
          },
          "metadata": {},
          "execution_count": 268
        },
        {
          "output_type": "display_data",
          "data": {
            "text/plain": [
              "<Figure size 640x480 with 1 Axes>"
            ],
            "image/png": "[encoded data removed]"
          },
          "metadata": {}
        }
      ]
    },
    {
      "cell_type": "code",
      "source": [
        "numCorrects = [hmap[i][i] for i in range(10)]\n",
        "\n",
        "mx = max(numCorrects)\n",
        "\n",
        "for i in range(len(numCorrects)):\n",
        "  if mx == numCorrects[i]:\n",
        "    index = i \n",
        "\n",
        "\n",
        "print(\"The highest accuracy class has accuracy\", max(numCorrects), \"when predicting\", ordered[index])\n",
        "\n",
        "highestError = 0\n",
        "\n",
        "indexi, indexj = 0, 0\n",
        "\n",
        "for i in range(len(hmap)):\n",
        "  for j in range(len(hmap[0])):\n",
        "    if i != j and hmap[i][j] > highestError:\n",
        "      highestError = hmap[i][j]\n",
        "      indexi = i\n",
        "      indexj = j\n",
        "\n",
        "print(\"the highest error class is has error\", highestError, \"true label of\", ordered[indexi], \"with predicted label\", ordered[indexj])\n",
        "\n",
        "#print(indexi, indexj)\n",
        "\n",
        "# predicting airplane when the true label is a ship has the most mistakes\n",
        "# although predicting ship has the highest true positive rate...\n",
        "# this may mean the network loves thinking everything is a ship \n",
        "\n",
        "\n"
      ],
      "metadata": {
        "colab": {
          "base_uri": "https://localhost:8080/"
        },
        "id": "HOBTmrXaoiNZ",
        "outputId": "46ad1510-b994-44aa-e951-615cce3d2a73"
      },
      "execution_count": null,
      "outputs": [
        {
          "output_type": "stream",
          "name": "stdout",
          "text": [
            "The highest accuracy class has accuracy 0.9101123595505618 when predicting ship\n",
            "the highest error class is has error 0.21017514595496248 true label of ship with predicted label airplane\n"
          ]
        }
      ]
    },
    {
      "cell_type": "code",
      "source": [
        "fig, ax = plt.subplots(1, 3, figsize=(15,10))\n",
        "\n",
        "\n",
        "ax[0].imshow(testset.data[totalFailedPredictions[1]])\n",
        "ax[1].imshow(testset.data[totalFailedPredictions[2]])\n",
        "ax[2].imshow(testset.data[totalFailedPredictions[3]])\n",
        "\n",
        "\n",
        "fig.tight_layout()\n",
        "\n",
        "# the below images are predicted to be airplanes, but the true label is ship. Perhaps the main reason for the model failing to predict these is the image\n",
        "# quality. Although, it may be able to improve prediction if more epochs are ran. \n",
        "# for this assignment, I ran it for 21 epochs. So more epochs would increase the accuracy.\n",
        "\n"
      ],
      "metadata": {
        "colab": {
          "base_uri": "https://localhost:8080/",
          "height": 356
        },
        "id": "zQHGJwqbzydC",
        "outputId": "85c88dfa-0261-4cae-de4c-d7e3b08845bb"
      },
      "execution_count": null,
      "outputs": [
        {
          "output_type": "display_data",
          "data": {
            "text/plain": [
              "<Figure size 1500x1000 with 3 Axes>"
            ],
            "image/png": "[encoded data removed]"
          },
          "metadata": {}
        }
      ]
    },
    {
      "cell_type": "markdown",
      "metadata": {
        "id": "HLWW4UitNyf8"
      },
      "source": [
        "Write analysis here"
      ]
    },
    {
      "cell_type": "markdown",
      "metadata": {
        "id": "sL2mSuhd2IlY"
      },
      "source": [
        "#__Task 6 Create your own model(10 Points OR 10 Points + 10 Bonus Points)__\n",
        "\n",
        "You have two options, and this task is open ended. \n",
        "\n",
        "Make your own model. Name the model class with your name(e.g. YoungJeNet). Briefly describe how you organized your model architecture and pipeline, and why you proposed such architecture (feel free to take inspiration from common architectures, and please reference any tutorials/guides that you use). Feel free to use your designed DataLoader and feel free to weight shift from any different model. Also feel free to use your training and test loop.\n",
        "With your defined model, run your pipeline on a new dataset and provide graphs of training accuracy and training loss, and report final accuracy.\n",
        "\n",
        "Do NOT just bring pretrained model: Like model=some_kind_of_pretrained_model(pretrain=True)\n",
        "\n",
        "For your new dataset, choose one of the following options:\n",
        "1. (10 Points) One of the following standard datasets: CIFAR10, PASCAL VOC, CALTECH256, or ImageNet2012.\n",
        "\n",
        "2. (10 Points + 10 Bonus Points) Find a dataset of your interest in biology. We are giving bonus points here because you need to describe further about your dataset and may need to work more with Dataloader.\n",
        "\n",
        "Please be mind that if you choose 2, this should not be part of your project.\n",
        "\n",
        "Your score will be determined based on 1. Description of dataset 2. Clearly stated idea and correctly implemented the idea. 3. Not too low accuracy. Please be aware that accuracy is not the only criterion here."
      ]
    },
    {
      "cell_type": "code",
      "source": [
        "#dataset found at https://www.kaggle.com/datasets/aryashah2k/breast-ultrasound-images-dataset\n",
        "#I split into test and train manually\n",
        "#contains breast cancer images of three classes benign, malignant and normal\n",
        "#the dataset used is in my Google Drive: https://drive.google.com/drive/folders/1wlxtuYSDFCgW7UK-a8kiOS31BmBdHini?usp=share_link \n",
        "\n",
        "\n",
        "transformation = Compose([\n",
        "    Resize((400, 400)), \n",
        "    ToTensor(), \n",
        "    Normalize((0.5, 0.5, 0.5), (0.5, 0.5, 0.5)),\n",
        "    ])\n",
        "\n",
        "trainroot = \"/content/drive/MyDrive/BreastCancer/train\"\n",
        "testroot = \"/content/drive/MyDrive/BreastCancer/test\"\n",
        "\n",
        "print(os.getcwd())\n",
        "\n",
        "train_dataset = torchvision.datasets.ImageFolder(\n",
        "    root=trainroot,\n",
        "    transform=transformation\n",
        ")\n",
        "\n",
        "test_dataset = torchvision.datasets.ImageFolder(\n",
        "    root=testroot,\n",
        "    transform=transformation\n",
        ")\n",
        "\n",
        "\n",
        "print(train_dataset)\n",
        "print(test_dataset)\n",
        "\n",
        "\n"
      ],
      "metadata": {
        "colab": {
          "base_uri": "https://localhost:8080/"
        },
        "id": "fwCMuF3PZfvQ",
        "outputId": "1e5f9dbc-60ed-44b1-f636-9806eff136d3"
      },
      "execution_count": null,
      "outputs": [
        {
          "output_type": "stream",
          "name": "stdout",
          "text": [
            "/content\n",
            "Dataset ImageFolder\n",
            "    Number of datapoints: 778\n",
            "    Root location: /content/drive/MyDrive/BreastCancer/train\n",
            "    StandardTransform\n",
            "Transform: Compose(\n",
            "               Resize(size=(400, 400), interpolation=bilinear, max_size=None, antialias=warn)\n",
            "               ToTensor()\n",
            "               Normalize(mean=(0.5, 0.5, 0.5), std=(0.5, 0.5, 0.5))\n",
            "           )\n",
            "Dataset ImageFolder\n",
            "    Number of datapoints: 141\n",
            "    Root location: /content/drive/MyDrive/BreastCancer/test\n",
            "    StandardTransform\n",
            "Transform: Compose(\n",
            "               Resize(size=(400, 400), interpolation=bilinear, max_size=None, antialias=warn)\n",
            "               ToTensor()\n",
            "               Normalize(mean=(0.5, 0.5, 0.5), std=(0.5, 0.5, 0.5))\n",
            "           )\n"
          ]
        }
      ]
    },
    {
      "cell_type": "code",
      "source": [
        "print(train_dataset)\n",
        "print(len(train_dataset))\n",
        "print(len(train_dataset[0]))\n",
        "print(len(train_dataset[0][0]))\n",
        "print(len(train_dataset[0][0][0]))\n",
        "print(len(train_dataset[0][0][0][0]))\n"
      ],
      "metadata": {
        "colab": {
          "base_uri": "https://localhost:8080/"
        },
        "id": "kTNMjSvQbVUO",
        "outputId": "3d89ed68-4901-4393-b3a4-4818a12a7f49"
      },
      "execution_count": null,
      "outputs": [
        {
          "output_type": "stream",
          "name": "stdout",
          "text": [
            "Dataset ImageFolder\n",
            "    Number of datapoints: 1397\n",
            "    Root location: /content/drive/MyDrive/BreastCancer/train\n",
            "    StandardTransform\n",
            "Transform: ToTensor()\n",
            "1397\n",
            "2\n",
            "3\n",
            "471\n",
            "562\n"
          ]
        }
      ]
    },
    {
      "cell_type": "code",
      "source": [
        "tsloader = torch.utils.data.DataLoader(test_dataset, batch_size=64,shuffle=True, num_workers=2)\n",
        "trloader = torch.utils.data.DataLoader(train_dataset, batch_size=64,shuffle=True, num_workers=2)"
      ],
      "metadata": {
        "id": "VMgO8dht03ZP"
      },
      "execution_count": null,
      "outputs": []
    },
    {
      "cell_type": "code",
      "execution_count": null,
      "metadata": {
        "id": "slI2EiM12mZI"
      },
      "outputs": [],
      "source": [
        "\n",
        "\n",
        "class CoolNet(nn.Module):\n",
        "\n",
        "    def __init__(self, num_classes=10):\n",
        "        \n",
        "        \n",
        "        super(CoolNet, self).__init__()\n",
        "        \n",
        "        \n",
        "        self.features=nn.Sequential(\n",
        "            \n",
        "\n",
        "           \n",
        "            \n",
        "            nn.Conv2d(3, 256, kernel_size=(11, 11), stride=(4, 4), padding=(2, 2)), #j\n",
        "            nn.ReLU(inplace=True),\n",
        "\n",
        "            #compression layer\n",
        "            nn.Conv2d(256, 10, kernel_size=(7,7), stride=(2,2), padding=(2,2)), \n",
        "            nn.ReLU(inplace=True),\n",
        "\n",
        "            nn.Conv2d(10, 400, kernel_size=(3,3), stride=(1,1), padding=(2,2)),\n",
        "            nn.ReLU(inplace=True),\n",
        "            \n",
        "            nn.Conv2d(400, 256, kernel_size=(3, 3), stride=(1, 1), padding=(1, 1)),\n",
        "            nn.ReLU(inplace=True))\n",
        "            \n",
        "            \n",
        "        \n",
        "        \n",
        "        #TODO: Define Classifiers\n",
        "        self.classifier=nn.Sequential(\n",
        "            \n",
        "            nn.Conv2d(256, 256, kernel_size=(3, 3), stride=(1, 1)),\n",
        "            nn.ReLU(inplace=True),\n",
        "            nn.Conv2d(256, 256, kernel_size=(1, 1), stride=(1, 1)),\n",
        "            nn.ReLU(inplace=True),\n",
        "            nn.Conv2d(256, 3, kernel_size=(1, 1), stride=(1, 1))\n",
        "            \n",
        "        )\n",
        "        \n",
        "        #We will give this initialization for you\n",
        "        for neuron in self.features:\n",
        "            if isinstance(neuron,nn.Conv2d):\n",
        "                nn.init.xavier_uniform_(neuron.weight)\n",
        "        \n",
        "        \n",
        "    def forward(self, x):\n",
        "        #TODO: Define forward pass\n",
        "        x = (self.features(x))\n",
        "        x = self.classifier(x)\n",
        "        return x"
      ]
    },
    {
      "cell_type": "code",
      "source": [
        "modelb = CoolNet().to(device)\n",
        "loss_fn=nn.BCELoss()\n",
        "optimizerb=torch.torch.optim.SGD(modelb.parameters(),lr=0.1)\n",
        "schedulerb = torch.optim.lr_scheduler.ReduceLROnPlateau(optimizerb, 'min')"
      ],
      "metadata": {
        "id": "vieMpa6y_drU"
      },
      "execution_count": null,
      "outputs": []
    },
    {
      "cell_type": "code",
      "source": [
        "def TrainCustom(trainloader, model, loss_fn, optimizer):\n",
        "    size = len(trainloader.dataset)\n",
        "    model.train()\n",
        "\n",
        "    trainingLoss = 0 \n",
        "    correct = 0\n",
        "    \n",
        "    for batch, (X, y) in enumerate(trainloader):\n",
        "        X, y = X.to(device), y.to(device)\n",
        "        \n",
        "        \n",
        "        y = torch.nn.functional.one_hot(y, num_classes= 3)\n",
        "        \n",
        "        y = y.to(device).float()\n",
        "\n",
        "        # Compute prediction error\n",
        "        pred = model(X)\n",
        "        \n",
        "        final_layer=nn.MaxPool2d((pred.size(2),pred.size(3)))\n",
        "        pred=final_layer(pred)\n",
        "        pred=torch.reshape(pred,(-1,3))#(-1,10)\n",
        "        pred=F.sigmoid(pred)\n",
        "        \n",
        "        loss = loss_fn(pred, y)\n",
        "        \n",
        "        trainingLoss = trainingLoss + loss.item()\n",
        "\n",
        "        # Backpropagation\n",
        "        optimizer.zero_grad()\n",
        "        loss.backward()\n",
        "        optimizer.step()\n",
        "\n",
        "        if batch % 100 == 0:\n",
        "            loss, current = loss.item(), (batch + 1) * len(X)\n",
        "            print(f\"loss: {loss:>7f}  [{current:>5d}/{size:>5d}]\")\n",
        "\n",
        "        correct += (pred.argmax(1) == y.argmax(1)).type(torch.float).sum().item()\n",
        "\n",
        "    trainingAccuracy = correct / size \n",
        "    averageTrainingLoss = trainingLoss / len(trloader)\n",
        "\n",
        "    print(\"training accuracy:\", trainingAccuracy, \"average training loss:\", averageTrainingLoss)\n",
        "\n",
        "    return (trainingAccuracy, averageTrainingLoss)\n",
        "\n",
        "def TestCustom(testloader, model, loss_fn):\n",
        "    size = len(testloader.dataset)\n",
        "    num_batches = len(testloader)\n",
        "    \n",
        "    model.eval()\n",
        "    test_loss, correct = 0, 0\n",
        "    \n",
        "    \n",
        "    with torch.no_grad():\n",
        "        for X, y in testloader:\n",
        "            X, y = X.to(device), y.to(device)\n",
        "            \n",
        "            y = torch.nn.functional.one_hot(y, num_classes= 3)\n",
        "        \n",
        "            y = y.to(device).float()\n",
        "            \n",
        "            \n",
        "            pred = model(X)\n",
        "            \n",
        "            final_layer=nn.MaxPool2d((pred.size(2),pred.size(3)))\n",
        "            pred=final_layer(pred)\n",
        "            pred=torch.reshape(pred,(-1,3))#(-1,10)\n",
        "            pred=F.sigmoid(pred)\n",
        "            \n",
        "            \n",
        "            test_loss += loss_fn(pred, y).item()\n",
        "            \n",
        "            \n",
        "            \n",
        "            \n",
        "            \n",
        "            correct += (pred.argmax(1) == y.argmax(1)).type(torch.float).sum().item()\n",
        "    test_loss /= num_batches\n",
        "    testAccuracy = correct / size \n",
        "    correct /= size\n",
        "\n",
        "    averageTestLoss = test_loss / num_batches \n",
        "    \n",
        "    \n",
        "    print(correct)\n",
        "    print(testAccuracy)\n",
        "\n",
        "    print(f\"Test Error: \\n Accuracy: {(100*correct):>0.1f}%, Avg loss: {test_loss:>8f} \\n\")\n",
        "    return testAccuracy, averageTestLoss\n",
        "    "
      ],
      "metadata": {
        "id": "S7CaZImV2y8r"
      },
      "execution_count": null,
      "outputs": []
    },
    {
      "cell_type": "code",
      "source": [
        "TestCustom(tsloader, modelb, loss_fn)"
      ],
      "metadata": {
        "colab": {
          "base_uri": "https://localhost:8080/"
        },
        "id": "vLbVIZ_l8Ign",
        "outputId": "2c274085-2417-4e39-b73b-45083c8d69f4"
      },
      "execution_count": null,
      "outputs": [
        {
          "output_type": "stream",
          "name": "stdout",
          "text": [
            "0.5319148936170213\n",
            "0.5319148936170213\n",
            "Test Error: \n",
            " Accuracy: 53.2%, Avg loss: 0.599878 \n",
            "\n"
          ]
        },
        {
          "output_type": "execute_result",
          "data": {
            "text/plain": [
              "(0.5319148936170213, 0.199959311220381)"
            ]
          },
          "metadata": {},
          "execution_count": 61
        }
      ]
    },
    {
      "cell_type": "code",
      "source": [
        "#TrainCustom(trloader, modelb, loss_fn, optimizerb)"
      ],
      "metadata": {
        "colab": {
          "base_uri": "https://localhost:8080/"
        },
        "id": "D75zKaNVCnkh",
        "outputId": "852b1da9-1bc1-4fa9-e4b7-32770c900945"
      },
      "execution_count": null,
      "outputs": [
        {
          "output_type": "stream",
          "name": "stdout",
          "text": [
            "0\n",
            "loss: 0.662974  [   64/  778]\n",
            "1\n",
            "2\n",
            "3\n",
            "4\n",
            "5\n",
            "6\n",
            "7\n",
            "8\n",
            "9\n",
            "10\n",
            "11\n",
            "12\n",
            "training accuracy: 0.5141388174807198 average training loss: 0.13311559241265059\n"
          ]
        },
        {
          "output_type": "execute_result",
          "data": {
            "text/plain": [
              "(0.5141388174807198, 0.13311559241265059)"
            ]
          },
          "metadata": {},
          "execution_count": 18
        }
      ]
    },
    {
      "cell_type": "code",
      "source": [
        "trAc = []\n",
        "tsAc = []\n",
        "trLoss = []\n",
        "tsLoss = []"
      ],
      "metadata": {
        "id": "K8wurXg8VXKn"
      },
      "execution_count": null,
      "outputs": []
    },
    {
      "cell_type": "code",
      "source": [
        "epochs = 10\n",
        "checkpoint = 0#len(trAc)\n",
        "\n",
        "for t in range(checkpoint, checkpoint + epochs):\n",
        "    print(f\"Epoch {t+1}\\n-------------------------------\")\n",
        "    trainingAcc, trainingLoss = TrainCustom(trloader, modelb, loss_fn, optimizerb)\n",
        "    testAccuracy, averageTestloss = TestCustom(tsloader, modelb, loss_fn)\n",
        "    schedulerb.step(averageTestloss)\n",
        "\n",
        "    trAc.append(trainingAcc)\n",
        "    trLoss.append(trainingLoss)\n",
        "    tsAc.append(testAccuracy)\n",
        "    tsLoss.append(averageTestloss)\n",
        "\n",
        "# more saving stuff \n",
        "    torch.save({\"training accuracy\" : trAc, \n",
        "                \"training loss\" : trLoss,\n",
        "                \"test accuracy\" : tsAc,\n",
        "                \"averageTestLoss\" : tsLoss}, \"/content/drive/MyDrive/valbrc.pt\")\n",
        "    torch.save({\"epoch\" + str(len(trAc)) : modelb.state_dict()}, \"/content/drive/MyDrive/modelbrc.pt\")\n",
        "    torch.save({\"epoch\" + str(len(trAc)) : optimizerb}, \"/content/drive/MyDrive/optbrc.pt\") # save the optimizer\n",
        "\n",
        "\n",
        "\n",
        "print(\"Done!\")"
      ],
      "metadata": {
        "colab": {
          "base_uri": "https://localhost:8080/"
        },
        "id": "0okoiw2VVKLB",
        "outputId": "14a5d95a-77f4-45a7-d105-a607c93e6259"
      },
      "execution_count": null,
      "outputs": [
        {
          "output_type": "stream",
          "name": "stdout",
          "text": [
            "Epoch 1\n",
            "-------------------------------\n",
            "loss: 0.696451  [   64/  778]\n",
            "training accuracy: 0.3264781491002571 average training loss: 0.6833361478952261\n",
            "Test Error: \n",
            " Accuracy: 28.4%, Avg loss: 0.672958 \n",
            "\n",
            "Epoch 2\n",
            "-------------------------------\n",
            "loss: 0.665847  [   64/  778]\n",
            "training accuracy: 0.487146529562982 average training loss: 0.6600561829713675\n",
            "Test Error: \n",
            " Accuracy: 53.2%, Avg loss: 0.652402 \n",
            "\n",
            "Epoch 3\n",
            "-------------------------------\n",
            "loss: 0.651247  [   64/  778]\n",
            "training accuracy: 0.5141388174807198 average training loss: 0.6427980340444125\n",
            "Test Error: \n",
            " Accuracy: 53.2%, Avg loss: 0.631962 \n",
            "\n",
            "Epoch 4\n",
            "-------------------------------\n",
            "loss: 0.637597  [   64/  778]\n",
            "training accuracy: 0.5141388174807198 average training loss: 0.6267161323474004\n",
            "Test Error: \n",
            " Accuracy: 53.2%, Avg loss: 0.622202 \n",
            "\n",
            "Epoch 5\n",
            "-------------------------------\n",
            "loss: 0.619417  [   64/  778]\n",
            "training accuracy: 0.5141388174807198 average training loss: 0.615835428237915\n",
            "Test Error: \n",
            " Accuracy: 53.2%, Avg loss: 0.635345 \n",
            "\n",
            "Epoch 6\n",
            "-------------------------------\n",
            "loss: 0.604867  [   64/  778]\n",
            "training accuracy: 0.5141388174807198 average training loss: 0.6065473694067735\n",
            "Test Error: \n",
            " Accuracy: 53.2%, Avg loss: 0.599898 \n",
            "\n",
            "Epoch 7\n",
            "-------------------------------\n",
            "loss: 0.595742  [   64/  778]\n",
            "training accuracy: 0.5141388174807198 average training loss: 0.5974437731962937\n",
            "Test Error: \n",
            " Accuracy: 53.2%, Avg loss: 0.592894 \n",
            "\n",
            "Epoch 8\n",
            "-------------------------------\n",
            "loss: 0.611638  [   64/  778]\n",
            "training accuracy: 0.5141388174807198 average training loss: 0.5972463901226337\n",
            "Test Error: \n",
            " Accuracy: 53.2%, Avg loss: 0.593732 \n",
            "\n",
            "Epoch 9\n",
            "-------------------------------\n",
            "loss: 0.590976  [   64/  778]\n",
            "training accuracy: 0.5141388174807198 average training loss: 0.5912140928781949\n",
            "Test Error: \n",
            " Accuracy: 53.2%, Avg loss: 0.586847 \n",
            "\n",
            "Epoch 10\n",
            "-------------------------------\n",
            "loss: 0.626983  [   64/  778]\n",
            "training accuracy: 0.5141388174807198 average training loss: 0.5890514392119187\n",
            "Test Error: \n",
            " Accuracy: 53.2%, Avg loss: 0.589412 \n",
            "\n",
            "Done!\n"
          ]
        }
      ]
    },
    {
      "cell_type": "code",
      "source": [
        "for i in a.keys():\n",
        "  print(i, len(a[i]), a[i])\n",
        "\n"
      ],
      "metadata": {
        "colab": {
          "base_uri": "https://localhost:8080/"
        },
        "id": "AMrNRnl7Xqed",
        "outputId": "2e52cc76-93b6-4144-fee6-dd74b6c7eee2"
      },
      "execution_count": null,
      "outputs": [
        {
          "output_type": "stream",
          "name": "stdout",
          "text": [
            "training accuracy 10 [0.3264781491002571, 0.487146529562982, 0.5141388174807198, 0.5141388174807198, 0.5141388174807198, 0.5141388174807198, 0.5141388174807198, 0.5141388174807198, 0.5141388174807198, 0.5141388174807198]\n",
            "training loss 10 [0.6833361478952261, 0.6600561829713675, 0.6427980340444125, 0.6267161323474004, 0.615835428237915, 0.6065473694067735, 0.5974437731962937, 0.5972463901226337, 0.5912140928781949, 0.5890514392119187]\n",
            "test accuracy 10 [0.28368794326241137, 0.5319148936170213, 0.5319148936170213, 0.5319148936170213, 0.5319148936170213, 0.5319148936170213, 0.5319148936170213, 0.5319148936170213, 0.5319148936170213, 0.5319148936170213]\n",
            "averageTestLoss 10 [0.22431922621197173, 0.2174673080444336, 0.21065396070480347, 0.20740080542034575, 0.2117816872066922, 0.1999661260181003, 0.19763116704093087, 0.19791064659754434, 0.19561558961868286, 0.1964708036846585]\n"
          ]
        }
      ]
    },
    {
      "cell_type": "code",
      "source": [
        "plt.scatter([i for i in range(10)], trAc)\n",
        "plt.title(\"Breast Cancer Identification Training Accuracy\")\n",
        "plt.xlabel(\"epoch\")\n",
        "plt.ylabel(\"Accuracy\")"
      ],
      "metadata": {
        "colab": {
          "base_uri": "https://localhost:8080/",
          "height": 489
        },
        "id": "x2x4b49zgrTR",
        "outputId": "22d39f66-a21b-43f6-ad69-c329131246e0"
      },
      "execution_count": 9,
      "outputs": [
        {
          "output_type": "execute_result",
          "data": {
            "text/plain": [
              "Text(0, 0.5, 'Accuracy')"
            ]
          },
          "metadata": {},
          "execution_count": 9
        },
        {
          "output_type": "display_data",
          "data": {
            "text/plain": [
              "<Figure size 640x480 with 1 Axes>"
            ],
            "image/png": "[encoded data removed]"
          },
          "metadata": {}
        }
      ]
    },
    {
      "cell_type": "code",
      "source": [
        "plt.scatter([i for i in range(10)], trLoss)\n",
        "plt.title(\"Breast Cancer Identification Training Loss\")\n",
        "plt.xlabel(\"epoch\")\n",
        "plt.ylabel(\"Accuracy\")"
      ],
      "metadata": {
        "colab": {
          "base_uri": "https://localhost:8080/",
          "height": 489
        },
        "id": "UFLF3KEfg9gF",
        "outputId": "9ad3edaa-90b5-4b43-f91e-f7ce23013421"
      },
      "execution_count": 10,
      "outputs": [
        {
          "output_type": "execute_result",
          "data": {
            "text/plain": [
              "Text(0, 0.5, 'Accuracy')"
            ]
          },
          "metadata": {},
          "execution_count": 10
        },
        {
          "output_type": "display_data",
          "data": {
            "text/plain": [
              "<Figure size 640x480 with 1 Axes>"
            ],
            "image/png": "[encoded data removed]"
          },
          "metadata": {}
        }
      ]
    },
    {
      "cell_type": "code",
      "source": [
        "plt.scatter([i for i in range(10)], tsAc)\n",
        "plt.title(\"Breast Cancer Identification Test Accuracy\")\n",
        "plt.xlabel(\"epoch\")\n",
        "plt.ylabel(\"Accuracy\")"
      ],
      "metadata": {
        "colab": {
          "base_uri": "https://localhost:8080/",
          "height": 489
        },
        "id": "1aL1u_NBhMHc",
        "outputId": "5d22c042-5d9c-4ddc-b595-447c262c1d4c"
      },
      "execution_count": 11,
      "outputs": [
        {
          "output_type": "execute_result",
          "data": {
            "text/plain": [
              "Text(0, 0.5, 'Accuracy')"
            ]
          },
          "metadata": {},
          "execution_count": 11
        },
        {
          "output_type": "display_data",
          "data": {
            "text/plain": [
              "<Figure size 640x480 with 1 Axes>"
            ],
            "image/png": "[encoded data removed]"
          },
          "metadata": {}
        }
      ]
    },
    {
      "cell_type": "code",
      "source": [
        "plt.scatter([i for i in range(10)], tsLoss)\n",
        "plt.title(\"Breast Cancer Identification Test Loss\")\n",
        "plt.xlabel(\"epoch\")\n",
        "plt.ylabel(\"Accuracy\")"
      ],
      "metadata": {
        "colab": {
          "base_uri": "https://localhost:8080/",
          "height": 489
        },
        "id": "4hIjkD9Nhe92",
        "outputId": "f59b774a-b017-4692-9a85-14674712f243"
      },
      "execution_count": 12,
      "outputs": [
        {
          "output_type": "execute_result",
          "data": {
            "text/plain": [
              "Text(0, 0.5, 'Accuracy')"
            ]
          },
          "metadata": {},
          "execution_count": 12
        },
        {
          "output_type": "display_data",
          "data": {
            "text/plain": [
              "<Figure size 640x480 with 1 Axes>"
            ],
            "image/png": "[encoded data removed]"
          },
          "metadata": {}
        }
      ]
    },
    {
      "cell_type": "code",
      "source": [
        "# The accuracy is fairly good considering 3 classes. However, it reaches a plateau too quickly. This may be a limit of the model architecture I used\n",
        "# I tried to implement some sort of compression layers like was shown in lecture. But it may also be due to the dataset itself.\n",
        "# The data only had 700 samples (I did not use the masks in the original dataset). So there may be some issues there.\n",
        "# However, the loss kept going down, indicating that it was at least learning even though the accuracy did not change. "
      ],
      "metadata": {
        "id": "TbZ8XkJChrqt"
      },
      "execution_count": null,
      "outputs": []
    },
    {
      "cell_type": "markdown",
      "metadata": {
        "id": "wokhgv7d6oOL"
      },
      "source": [
        "(Option) For your career, we encourage you to upload your work on Github. Github is a repository for programmers. This repo can be useful to your future career, especially if you aim to work in a computational job: provide your Github link to recruiter/research POI. By doing so, you can show your recruiter/research POI that you have fundamental ability to work with deep learning and being able to code Pytorch."
      ]
    },
    {
      "cell_type": "markdown",
      "metadata": {
        "id": "DHIHJqrc4QMv"
      },
      "source": [
        "Congratulations! Now you understand the basic flow of deep learning workflow. CMU provides a variety of deep learning courses, so we recommend taking any of them if you are interested or strengthen your knowledge and skills in deep learning. If you want to learn general deep learning, consider 11-685 Introduction to Deep learning. Be careful that this course is very hectic. LTI and RI offer domain specific deep learning courses(such as Natural Language Processing, Visual Learning and Recognition). If you want to know deep learning theory, consider 10-707. Please be aware that what we've covered in this assignment is very basic: this is going to be assignment 0 for other deep learning courses. However, we believe that this assignment will work as a immigration assignment to deep learning."
      ]
    },
    {
      "cell_type": "code",
      "execution_count": null,
      "metadata": {
        "id": "oHhxGqWlNygC"
      },
      "outputs": [],
      "source": []
    }
  ],
  "metadata": {
    "colab": {
      "provenance": [],
      "include_colab_link": true
    },
    "kernelspec": {
      "display_name": "Python 3 (ipykernel)",
      "language": "python",
      "name": "python3"
    },
    "language_info": {
      "codemirror_mode": {
        "name": "ipython",
        "version": 3
      },
      "file_extension": ".py",
      "mimetype": "text/x-python",
      "name": "python",
      "nbconvert_exporter": "python",
      "pygments_lexer": "ipython3",
      "version": "3.9.13"
    },
    "gpuClass": "standard"
  },
  "nbformat": 4,
  "nbformat_minor": 0
}